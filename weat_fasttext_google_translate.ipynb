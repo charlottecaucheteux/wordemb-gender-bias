{
 "cells": [
  {
   "cell_type": "code",
   "execution_count": 1,
   "id": "82d6c134",
   "metadata": {
    "scrolled": true
   },
   "outputs": [
    {
     "data": {
      "text/plain": [
       "'/private/home/ccaucheteux/wordemb-gender-bias'"
      ]
     },
     "execution_count": 1,
     "metadata": {},
     "output_type": "execute_result"
    }
   ],
   "source": [
    "pwd"
   ]
  },
  {
   "cell_type": "code",
   "execution_count": 2,
   "id": "5332f79a",
   "metadata": {},
   "outputs": [],
   "source": [
    "from pathlib import Path\n",
    "import fasttext\n",
    "import numpy as np"
   ]
  },
  {
   "cell_type": "code",
   "execution_count": 3,
   "id": "187cfdb0",
   "metadata": {
    "scrolled": true
   },
   "outputs": [],
   "source": [
    "path_to_fasttext_models = Path(\"../socio_wordvec/notebooks\")"
   ]
  },
  {
   "cell_type": "markdown",
   "id": "ff39a81a",
   "metadata": {},
   "source": [
    "# Functions"
   ]
  },
  {
   "cell_type": "code",
   "execution_count": 4,
   "id": "81551be7",
   "metadata": {},
   "outputs": [],
   "source": [
    "def similarity(x, y):\n",
    "    sim = np.dot(x, y)/(np.sqrt(np.dot(x, x))*np.sqrt(np.dot(y, y)))\n",
    "    return sim\n",
    "\n",
    "def score(attribute, target_set, model):\n",
    "    sim = [similarity(model.get_word_vector(attribute), model[target]) for target in target_set]\n",
    "    avg_sim = np.mean(sim)\n",
    "    return avg_sim\n",
    "\n",
    "def association(w, A, B, model):\n",
    "    return score(w, A, model) - score(w, B, model)\n",
    "\n",
    "def weat_score(X, Y, A, B, model):\n",
    "    ass_x = [association(w, A, B, model) for w in X]\n",
    "    ass_y = [association(w, A, B, model) for w in Y]\n",
    "    \n",
    "    weat = np.mean(ass_x) - np.mean(ass_y)\n",
    "    weat_es = weat / np.std(ass_x + ass_y)\n",
    "    \n",
    "    return weat, weat_es\n",
    "\n",
    "def load_model(model_name):\n",
    "    model_path = path_to_fasttext_models / model_name\n",
    "    assert Path(model_path).is_file(), f\"{model_path} does not exist\"\n",
    "    print(\"Loading model from \", model_path)\n",
    "    ft = fasttext.load_model(str(model_path))\n",
    "    return ft"
   ]
  },
  {
   "cell_type": "markdown",
   "id": "27eab453",
   "metadata": {},
   "source": [
    "# Test with english model"
   ]
  },
  {
   "cell_type": "code",
   "execution_count": 5,
   "id": "07a47e99",
   "metadata": {},
   "outputs": [
    {
     "name": "stdout",
     "output_type": "stream",
     "text": [
      "CPU times: user 0 ns, sys: 2 µs, total: 2 µs\n",
      "Wall time: 5.72 µs\n",
      "Loading model from  ../socio_wordvec/notebooks/cc.en.300.bin\n"
     ]
    },
    {
     "name": "stderr",
     "output_type": "stream",
     "text": [
      "Warning : `load_model` does not return WordVectorModel or SupervisedModel any more, but a `FastText` object which is very similar.\n"
     ]
    }
   ],
   "source": [
    "%time\n",
    "lang = \"en\"\n",
    "model_name = f\"cc.{lang}.300.bin\" # the model file (should be the same, ending by '.bin')\n",
    "model = load_model(model_name)"
   ]
  },
  {
   "cell_type": "code",
   "execution_count": 6,
   "id": "2f900c0b",
   "metadata": {},
   "outputs": [
    {
     "data": {
      "text/plain": [
       "(0.059203893, 2.0)"
      ]
     },
     "execution_count": 6,
     "metadata": {},
     "output_type": "execute_result"
    }
   ],
   "source": [
    "A = [\"man\"]\n",
    "B = [\"woman\"]\n",
    "X = [\"career\"]\n",
    "Y = [\"wedding\"]\n",
    "\n",
    "weat, weat_es = weat_score(X, Y, A, B, model)\n",
    "weat, weat_es"
   ]
  },
  {
   "cell_type": "code",
   "execution_count": 7,
   "id": "6d4122f9",
   "metadata": {},
   "outputs": [
    {
     "data": {
      "text/plain": [
       "(0.0009842217, 2.0)"
      ]
     },
     "execution_count": 7,
     "metadata": {},
     "output_type": "execute_result"
    }
   ],
   "source": [
    "A = [\"man\"]\n",
    "B = [\"woman\"]\n",
    "X = [\"career\"]\n",
    "Y = [\"family\"]\n",
    "\n",
    "weat, weat_es = weat_score(X, Y, A, B, model)\n",
    "weat, weat_es"
   ]
  },
  {
   "cell_type": "code",
   "execution_count": 8,
   "id": "e3d66eef",
   "metadata": {},
   "outputs": [
    {
     "data": {
      "text/plain": [
       "(0.08110222, 2.0)"
      ]
     },
     "execution_count": 8,
     "metadata": {},
     "output_type": "execute_result"
    }
   ],
   "source": [
    "A = [\"man\"]\n",
    "B = [\"woman\"]\n",
    "X = [\"career\"]\n",
    "Y = [\"children\"]\n",
    "\n",
    "weat, weat_es = weat_score(X, Y, A, B, model)\n",
    "weat, weat_es"
   ]
  },
  {
   "cell_type": "code",
   "execution_count": 9,
   "id": "61fcd8e5",
   "metadata": {},
   "outputs": [
    {
     "data": {
      "text/plain": [
       "0.2529125"
      ]
     },
     "execution_count": 9,
     "metadata": {},
     "output_type": "execute_result"
    }
   ],
   "source": [
    "x = model [\"man\"]\n",
    "y = model [\"children\"]\n",
    "similarity(x,y)"
   ]
  },
  {
   "cell_type": "code",
   "execution_count": 10,
   "id": "3969ce27",
   "metadata": {},
   "outputs": [
    {
     "data": {
      "text/plain": [
       "(0.09027621, 1.7388039)"
      ]
     },
     "execution_count": 10,
     "metadata": {},
     "output_type": "execute_result"
    }
   ],
   "source": [
    "A = [\"man\", \"he\"]\n",
    "B = [\"woman\", \"she\"]\n",
    "X = [\"salary\", \"career\"]\n",
    "Y = [\"home\", \"wedding\"]\n",
    "\n",
    "weat, weat_es = weat_score(X, Y, A, B, model)\n",
    "weat, weat_es"
   ]
  },
  {
   "cell_type": "code",
   "execution_count": 11,
   "id": "7aafb3e3",
   "metadata": {},
   "outputs": [
    {
     "data": {
      "text/plain": [
       "(0.042019784, 1.359282)"
      ]
     },
     "execution_count": 11,
     "metadata": {},
     "output_type": "execute_result"
    }
   ],
   "source": [
    "A = [\"male\", \"man\", \"boy\", \"brother\", \"he\", \"him\", \"his\", \"son\"]\n",
    "B = [\"female\", \"woman\", \"girl\", \"sister\", \"she\", \"her\", \"hers\", \"daughter\"]\n",
    "X = [\"executive\", \"management\", \"professional\", \"corporation\", \"salary\", \"office\", \"business\", \"career\"]\n",
    "Y = [\"home\", \"parents\", \"children\", \"family\", \"cousins\", \"marriage\", \"wedding\", \"relatives\"]\n",
    "\n",
    "weat, weat_es = weat_score(X, Y, A, B, model)\n",
    "weat, weat_es"
   ]
  },
  {
   "cell_type": "code",
   "execution_count": 12,
   "id": "cf9b7610",
   "metadata": {},
   "outputs": [
    {
     "data": {
      "text/plain": [
       "(0.042019784, 0.39894468)"
      ]
     },
     "execution_count": 12,
     "metadata": {},
     "output_type": "execute_result"
    }
   ],
   "source": [
    "X = [\"male\", \"man\", \"boy\", \"brother\", \"he\", \"him\", \"his\", \"son\"]\n",
    "Y = [\"female\", \"woman\", \"girl\", \"sister\", \"she\", \"her\", \"hers\", \"daughter\"]\n",
    "A = [\"executive\", \"management\", \"professional\", \"corporation\", \"salary\", \"office\", \"business\", \"career\"]\n",
    "B = [\"home\", \"parents\", \"children\", \"family\", \"cousins\", \"marriage\", \"wedding\", \"relatives\"]\n",
    "\n",
    "weat, weat_es = weat_score(X, Y, A, B, model)\n",
    "weat, weat_es"
   ]
  },
  {
   "cell_type": "code",
   "execution_count": 13,
   "id": "76781c70",
   "metadata": {},
   "outputs": [
    {
     "data": {
      "text/plain": [
       "(0.08375169, 1.7685586)"
      ]
     },
     "execution_count": 13,
     "metadata": {},
     "output_type": "execute_result"
    }
   ],
   "source": [
    "A = [\"man\"]\n",
    "B = [\"woman\"]\n",
    "X = [\"career\", \"management\"]\n",
    "Y = [\"wedding\", \"parents\"]\n",
    "\n",
    "weat, weat_es = weat_score(X, Y, A, B, model)\n",
    "weat, weat_es"
   ]
  },
  {
   "cell_type": "code",
   "execution_count": 14,
   "id": "758a0eec",
   "metadata": {},
   "outputs": [
    {
     "name": "stdout",
     "output_type": "stream",
     "text": [
      "CPU times: user 1 µs, sys: 3 µs, total: 4 µs\n",
      "Wall time: 9.3 µs\n",
      "Loading model from  ../socio_wordvec/notebooks/cc.en.300.bin\n"
     ]
    },
    {
     "name": "stderr",
     "output_type": "stream",
     "text": [
      "Warning : `load_model` does not return WordVectorModel or SupervisedModel any more, but a `FastText` object which is very similar.\n"
     ]
    }
   ],
   "source": [
    "%time\n",
    "lang=\"en\" # Select the language here, english. \n",
    "model_name = f\"cc.{lang}.300.bin\" # the model file (should be the same, ending by '.bin')\n",
    "model = load_model(model_name)"
   ]
  },
  {
   "cell_type": "code",
   "execution_count": 15,
   "id": "42030c73",
   "metadata": {},
   "outputs": [
    {
     "data": {
      "text/plain": [
       "(0.042019784, 1.359282)"
      ]
     },
     "execution_count": 15,
     "metadata": {},
     "output_type": "execute_result"
    }
   ],
   "source": [
    "A = [\"male\", \"man\", \"boy\", \"brother\", \"he\", \"him\", \"his\", \"son\"]\n",
    "B = [\"female\", \"woman\", \"girl\", \"sister\", \"she\", \"her\", \"hers\", \"daughter\"]\n",
    "X = [\"executive\", \"management\", \"professional\", \"corporation\", \"salary\", \"office\", \"business\", \"career\"]\n",
    "Y = [\"home\", \"parents\", \"children\", \"family\", \"cousins\", \"marriage\", \"wedding\", \"relatives\"]\n",
    "\n",
    "weat, weat_es = weat_score(X, Y, A, B, model)\n",
    "weat, weat_es"
   ]
  },
  {
   "cell_type": "code",
   "execution_count": 16,
   "id": "72b2976a",
   "metadata": {},
   "outputs": [
    {
     "data": {
      "text/plain": [
       "(0.042019784, 0.39894468)"
      ]
     },
     "execution_count": 16,
     "metadata": {},
     "output_type": "execute_result"
    }
   ],
   "source": [
    "X = [\"male\", \"man\", \"boy\", \"brother\", \"he\", \"him\", \"his\", \"son\"]\n",
    "Y = [\"female\", \"woman\", \"girl\", \"sister\", \"she\", \"her\", \"hers\", \"daughter\"]\n",
    "A = [\"executive\", \"management\", \"professional\", \"corporation\", \"salary\", \"office\", \"business\", \"career\"]\n",
    "B = [\"home\", \"parents\", \"children\", \"family\", \"cousins\", \"marriage\", \"wedding\", \"relatives\"]\n",
    "\n",
    "weat, weat_es = weat_score(X, Y, A, B, model)\n",
    "weat, weat_es"
   ]
  },
  {
   "cell_type": "markdown",
   "id": "f49f0f3d",
   "metadata": {},
   "source": [
    "# Generalize to other languages"
   ]
  },
  {
   "cell_type": "markdown",
   "id": "407f69d1",
   "metadata": {},
   "source": [
    "## Functions"
   ]
  },
  {
   "cell_type": "code",
   "execution_count": 18,
   "id": "0ca6c15f",
   "metadata": {},
   "outputs": [],
   "source": [
    "from deep_translator import GoogleTranslator\n",
    "def run_exp_google_tr(lang, X, Y, A, B):\n",
    "    model_name = f\"cc.{lang}.300.bin\" # the model file (should be the same, ending by '.bin')\n",
    "    model = load_model(model_name)\n",
    "\n",
    "    # Traduction\n",
    "    trs = {}\n",
    "    for name, words in zip([\"A\", \"B\", \"X\", \"Y\"], [A, B, X, Y]):\n",
    "        out = []\n",
    "        for w in words:\n",
    "            tw = GoogleTranslator(source='en', target=lang).translate(text=w)\n",
    "            tw = tw.strip()\n",
    "            out.append(tw)\n",
    "        print(name, out)\n",
    "        trs[name] = out\n",
    "\n",
    "    weat, weat_es = weat_score(trs[\"X\"], \n",
    "                               trs[\"Y\"], \n",
    "                               trs[\"A\"], \n",
    "                               trs[\"B\"], \n",
    "                               model)\n",
    "    return weat, weat_es, trs"
   ]
  },
  {
   "cell_type": "markdown",
   "id": "59a36021",
   "metadata": {},
   "source": [
    "## Example for italian"
   ]
  },
  {
   "cell_type": "code",
   "execution_count": 19,
   "id": "959eaca3",
   "metadata": {},
   "outputs": [
    {
     "name": "stdout",
     "output_type": "stream",
     "text": [
      "Loading model from  ../socio_wordvec/notebooks/cc.it.300.bin\n"
     ]
    },
    {
     "name": "stderr",
     "output_type": "stream",
     "text": [
      "Warning : `load_model` does not return WordVectorModel or SupervisedModel any more, but a `FastText` object which is very similar.\n"
     ]
    },
    {
     "name": "stdout",
     "output_type": "stream",
     "text": [
      "A ['esecutivo', 'gestione', 'professionale', 'società', 'stipendio', 'ufficio', 'attività commerciale', 'carriera']\n",
      "B ['casa', 'genitori', 'bambini', 'famiglia', 'cugini', 'matrimonio', 'nozze', 'parenti']\n",
      "X ['maschio', 'uomo', 'ragazzo', 'fratello', 'lui', 'lui', 'la sua', 'figlio']\n",
      "Y ['femmina', 'donna', 'ragazza', 'sorella', 'lei', 'sua', 'la sua', 'figlia']\n",
      "weat 0.0123478845\n",
      "weat_es 0.12605372\n",
      "translations {'A': ['esecutivo', 'gestione', 'professionale', 'società', 'stipendio', 'ufficio', 'attività commerciale', 'carriera'], 'B': ['casa', 'genitori', 'bambini', 'famiglia', 'cugini', 'matrimonio', 'nozze', 'parenti'], 'X': ['maschio', 'uomo', 'ragazzo', 'fratello', 'lui', 'lui', 'la sua', 'figlio'], 'Y': ['femmina', 'donna', 'ragazza', 'sorella', 'lei', 'sua', 'la sua', 'figlia']}\n"
     ]
    }
   ],
   "source": [
    "X = [\"male\", \"man\", \"boy\", \"brother\", \"he\", \"him\", \"his\", \"son\"]\n",
    "Y = [\"female\", \"woman\", \"girl\", \"sister\", \"she\", \"her\", \"hers\", \"daughter\"]\n",
    "A = [\"executive\", \"management\", \"professional\", \"corporation\", \"salary\", \"office\", \"business\", \"career\"]\n",
    "B = [\"home\", \"parents\", \"children\", \"family\", \"cousins\", \"marriage\", \"wedding\", \"relatives\"]\n",
    "\n",
    "weat, weat_es, translations = run_exp_google_tr(\"it\", X, Y, A, B)\n",
    "\n",
    "print(\"weat\", weat)\n",
    "print(\"weat_es\", weat_es)\n",
    "print(\"translations\", translations)"
   ]
  },
  {
   "cell_type": "markdown",
   "id": "62a688f8",
   "metadata": {},
   "source": [
    "## All languages"
   ]
  },
  {
   "cell_type": "markdown",
   "id": "f7e93343",
   "metadata": {},
   "source": [
    "Select languages"
   ]
  },
  {
   "cell_type": "code",
   "execution_count": 20,
   "id": "c8ba79fc",
   "metadata": {},
   "outputs": [],
   "source": [
    "all_languages = [\"af\", \"sq\", \"ar\", \"hy\", \"az\", \"be\", \"bn\", \"bs\", \"bg\", \"my\", \"hr\", \"cs\", \"da\", \"nl\", \"en\", \"et\", \"fi\", \"fr\", \"gl\", \"ka\", \"de\", \"el\", \"hi\", \"hu\", \"is\", \"id\", \"ga\", \"it\", \"ja\", \"kk\", \"km\", \"ky\", \"ko\", \"ku\", \"lv\", \"lt\", \"lb\", \"mk\", \"mg\", \"ms\", \"mt\", \"ne\", \"no\", \"ps\", \"fa\", \"pl\", \"pt\", \"qu\", \"ro\", \"ru\", \"gd\", \"sd\", \"sr\", \"sl\", \"sk\", \"so\", \"es\", \"th\", \"vi\", \"uk\", \"uz\", \"lo\", \"he\", \"sv\", \"tl\", \"tr\", \"ur\", \"zh\", \"zu\", \"th\", \"vi\", \"uk\", \"uz\", \"he\", \"sv\", \"tl\", \"tr\", \"ur\", \"zh\", \"zu\"]\n"
   ]
  },
  {
   "cell_type": "markdown",
   "id": "745b16a8",
   "metadata": {},
   "source": [
    "Check languages that are compatible with translations"
   ]
  },
  {
   "cell_type": "code",
   "execution_count": 24,
   "id": "5a4bfe21",
   "metadata": {},
   "outputs": [
    {
     "name": "stdout",
     "output_type": "stream",
     "text": [
      "Missing translations for lang ['he', 'zh', 'he', 'zh']\n"
     ]
    }
   ],
   "source": [
    "tr = GoogleTranslator()\n",
    "all_google_languages = tr.get_supported_languages(as_dict=True)\n",
    "all_google_languages = all_google_languages.values()\n",
    "missing_google_languages = [x for x in all_languages if x not in all_google_languages]\n",
    "print(f\"Missing translations for lang {missing_google_languages}\")"
   ]
  },
  {
   "cell_type": "markdown",
   "id": "edfabd0f",
   "metadata": {},
   "source": [
    "Check that models exists"
   ]
  },
  {
   "cell_type": "code",
   "execution_count": 25,
   "id": "527fe7e3",
   "metadata": {},
   "outputs": [
    {
     "name": "stdout",
     "output_type": "stream",
     "text": [
      "Missing models for lang ['lo', 'tl', 'tr', 'ur', 'zu', 'tl', 'tr', 'ur', 'zu']\n"
     ]
    }
   ],
   "source": [
    "all_models = path_to_fasttext_models.glob(\"cc.*.bin\")\n",
    "all_models = [p.stem.split(\".\")[1] for p in all_models]\n",
    "missing_models = [l for l in all_languages if l not in all_models]\n",
    "print(f\"Missing models for lang {missing_models}\")"
   ]
  },
  {
   "cell_type": "markdown",
   "id": "197bc3e8",
   "metadata": {},
   "source": [
    "Select intersection"
   ]
  },
  {
   "cell_type": "code",
   "execution_count": 28,
   "id": "9773fd1d",
   "metadata": {
    "scrolled": true
   },
   "outputs": [
    {
     "name": "stdout",
     "output_type": "stream",
     "text": [
      "67 languages out of 80\n"
     ]
    }
   ],
   "source": [
    "sel_languages = [lang for lang in all_languages if (lang in all_models) and lang in all_google_languages]\n",
    "print(f\"{len(sel_languages)} languages out of {len(all_languages)}\")"
   ]
  },
  {
   "cell_type": "markdown",
   "id": "9fce439a",
   "metadata": {},
   "source": [
    "## Run on cluster"
   ]
  },
  {
   "cell_type": "code",
   "execution_count": 31,
   "id": "2fefa04f",
   "metadata": {},
   "outputs": [],
   "source": [
    "def submit_job(lang, reduced=False, google=True):\n",
    "    if reduced:\n",
    "        A = [\"man\", \"he\"]\n",
    "        B = [\"woman\", \"she\"]\n",
    "        X = [\"salary\", \"career\"]\n",
    "        Y = [\"home\", \"wedding\"]\n",
    "    else:\n",
    "        X = [\"male\", \"man\", \"boy\", \"brother\", \"he\", \"him\", \"his\", \"son\"]\n",
    "        Y = [\"female\", \"woman\", \"girl\", \"sister\", \"she\", \"her\", \"hers\", \"daughter\"]\n",
    "        A = [\"executive\", \"management\", \"professional\", \"corporation\", \"salary\", \"office\", \"business\", \"career\"]\n",
    "        B = [\"home\", \"parents\", \"children\", \"family\", \"cousins\", \"marriage\", \"wedding\", \"relatives\"]\n",
    "    if google:\n",
    "        weat, weat_es, translations = run_exp_google(lang, X, Y, A, B)\n",
    "    else:\n",
    "        weat, weat_es, translations = run_exp(lang, X, Y, A, B)\n",
    "    return weat, weat_es, translations"
   ]
  },
  {
   "cell_type": "code",
   "execution_count": 32,
   "id": "b7116513",
   "metadata": {},
   "outputs": [
    {
     "name": "stdout",
     "output_type": "stream",
     "text": [
      "Loading model from  ../socio_wordvec/notebooks/cc.it.300.bin\n"
     ]
    },
    {
     "name": "stderr",
     "output_type": "stream",
     "text": [
      "Warning : `load_model` does not return WordVectorModel or SupervisedModel any more, but a `FastText` object which is very similar.\n"
     ]
    },
    {
     "name": "stdout",
     "output_type": "stream",
     "text": [
      "A ['esecutivo', 'gestione', 'professionale', 'società', 'stipendio', 'ufficio', 'attività commerciale', 'carriera']\n",
      "B ['casa', 'genitori', 'bambini', 'famiglia', 'cugini', 'matrimonio', 'nozze', 'parenti']\n",
      "X ['maschio', 'uomo', 'ragazzo', 'fratello', 'lui', 'lui', 'la sua', 'figlio']\n",
      "Y ['femmina', 'donna', 'ragazza', 'sorella', 'lei', 'sua', 'la sua', 'figlia']\n"
     ]
    }
   ],
   "source": [
    "weat, weat_es, translations = submit_job(\"it\")"
   ]
  },
  {
   "cell_type": "code",
   "execution_count": 127,
   "id": "f443c5e4",
   "metadata": {},
   "outputs": [],
   "source": [
    "import submitit\n",
    "from submitit import AutoExecutor\n",
    "executor = AutoExecutor(\n",
    "            f\"submitit_jobs/submitit_jobs/wordemb_bias\")\n",
    "executor.update_parameters(\n",
    "    slurm_partition=\"devlab\",\n",
    "    slurm_array_parallelism=200,\n",
    "    timeout_min=60,\n",
    "    name=\"wordemb_bias\",\n",
    "    mem_gb=40,\n",
    "    cpus_per_task=2,\n",
    "    gpus_per_node=0,\n",
    ")\n",
    "\n",
    "jobs_all_words = executor.map_array(submit_job, all_languages)"
   ]
  },
  {
   "cell_type": "code",
   "execution_count": 126,
   "id": "07e167fa",
   "metadata": {},
   "outputs": [],
   "source": [
    "jobs_reduced = executor.map_array(submit_job, all_languages, [True]*len(all_languages))"
   ]
  },
  {
   "cell_type": "markdown",
   "id": "bc6dd581",
   "metadata": {},
   "source": [
    "## Load results"
   ]
  },
  {
   "cell_type": "code",
   "execution_count": 137,
   "id": "a3811af9",
   "metadata": {},
   "outputs": [],
   "source": [
    "jobs = jobs_all_words\n",
    "is_completed = np.array([j.state==\"COMPLETED\" for j in jobs])\n",
    "langs = np.array(all_languages)[is_completed]\n",
    "results = [j.results()[0] for (i, j) in enumerate(jobs) if is_completed[i]]"
   ]
  },
  {
   "cell_type": "code",
   "execution_count": 138,
   "id": "345aa8fc",
   "metadata": {
    "scrolled": true
   },
   "outputs": [],
   "source": [
    "import pandas as pd\n",
    "weat = [r[0] for r in results]\n",
    "weat_std = [r[1] for r in results]\n",
    "trads = {k: [r[-1][k] for r in results] for k in [\"A\", \"B\", \"X\", \"Y\"]}"
   ]
  },
  {
   "cell_type": "code",
   "execution_count": 139,
   "id": "9273d5ab",
   "metadata": {
    "scrolled": true
   },
   "outputs": [],
   "source": [
    "df = pd.DataFrame({\"lang\": langs, \"weat\": weat, \"weat_std\": weat_std, **trads})"
   ]
  },
  {
   "cell_type": "markdown",
   "id": "679a333f",
   "metadata": {},
   "source": [
    "## Download missing models"
   ]
  },
  {
   "cell_type": "code",
   "execution_count": null,
   "id": "ccbef7a0",
   "metadata": {},
   "outputs": [],
   "source": [
    "import fasttext.util\n",
    "sel_languages = \"af\", \"sq\", \"ar\", \"hy\", \"az\", \"be\", \"bn\", \"bs\", \"bg\", \"my\", \"hr\", \"cs\", \"da\", \"nl\", \"en\", \"et\", \"fi\", \"fr\", \"gl\", \"ka\", \"de\", \"el\", \"hi\", \"hu\", \"is\", \"id\", \"ga\", \"it\", \"ja\", \"kk\", \"km\", \"ky\", \"ko\", \"ku\", \"lv\", \"lt\", \"lb\", \"mk\", \"mg\", \"ms\", \"mt\", \"ne\", \"no\", \"ps\", \"fa\", \"pl\", \"pt\", \"qu\", \"ro\", \"ru\", \"gd\", \"sd\", \"sr\", \"sl\", \"sk\", \"so\", \"es\", \"th\", \"vi\", \"uk\", \"uz\", \"lo\", \"he\", \"sv\", \"tl\", \"tr\", \"ur\", \"zh\", \"zu\", \"th\", \"vi\", \"uk\", \"uz\", \"lo\", \"he\", \"sv\", \"tl\", \"tr\", \"ur\", \"zh\", \"zu\"\n",
    "for lang in sel_languages:\n",
    "    print(lang)\n",
    "    fasttext.util.download_model(lang, if_exists='ignore') #'en', if_exists='ignore')  # English"
   ]
  }
 ],
 "metadata": {
  "kernelspec": {
   "display_name": "gender-bias",
   "language": "python",
   "name": "gender-bias"
  },
  "language_info": {
   "codemirror_mode": {
    "name": "ipython",
    "version": 3
   },
   "file_extension": ".py",
   "mimetype": "text/x-python",
   "name": "python",
   "nbconvert_exporter": "python",
   "pygments_lexer": "ipython3",
   "version": "3.7.15"
  },
  "toc": {
   "base_numbering": 1,
   "nav_menu": {},
   "number_sections": true,
   "sideBar": true,
   "skip_h1_title": false,
   "title_cell": "Table of Contents",
   "title_sidebar": "Contents",
   "toc_cell": false,
   "toc_position": {},
   "toc_section_display": true,
   "toc_window_display": false
  }
 },
 "nbformat": 4,
 "nbformat_minor": 5
}
