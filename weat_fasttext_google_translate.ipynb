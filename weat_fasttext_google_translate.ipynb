{
 "cells": [
  {
   "cell_type": "code",
   "execution_count": 1,
   "id": "5cc7f643",
   "metadata": {
    "scrolled": true
   },
   "outputs": [
    {
     "data": {
      "text/plain": [
       "'/private/home/ccaucheteux/wordemb-gender-bias'"
      ]
     },
     "execution_count": 1,
     "metadata": {},
     "output_type": "execute_result"
    }
   ],
   "source": [
    "pwd"
   ]
  },
  {
   "cell_type": "code",
   "execution_count": 2,
   "id": "ac69a720",
   "metadata": {},
   "outputs": [],
   "source": [
    "from pathlib import Path\n",
    "import fasttext\n",
    "import numpy as np"
   ]
  },
  {
   "cell_type": "code",
   "execution_count": 3,
   "id": "107c338c",
   "metadata": {
    "scrolled": true
   },
   "outputs": [],
   "source": [
    "path_to_fasttext_models = Path(\"../socio_wordvec/notebooks\")"
   ]
  },
  {
   "cell_type": "markdown",
   "id": "644835cc",
   "metadata": {},
   "source": [
    "# Functions"
   ]
  },
  {
   "cell_type": "code",
   "execution_count": 4,
   "id": "3e3cc249",
   "metadata": {},
   "outputs": [],
   "source": [
    "def similarity(x, y):\n",
    "    sim = np.dot(x, y)/(np.sqrt(np.dot(x, x))*np.sqrt(np.dot(y, y)))\n",
    "    return sim\n",
    "\n",
    "def score(attribute, target_set, model):\n",
    "    sim = [similarity(model.get_word_vector(attribute), model[target]) for target in target_set]\n",
    "    avg_sim = np.mean(sim)\n",
    "    return avg_sim\n",
    "\n",
    "def association(w, A, B, model):\n",
    "    return score(w, A, model) - score(w, B, model)\n",
    "\n",
    "def weat_score(X, Y, A, B, model):\n",
    "    ass_x = [association(w, A, B, model) for w in X]\n",
    "    ass_y = [association(w, A, B, model) for w in Y]\n",
    "    \n",
    "    weat = np.mean(ass_x) - np.mean(ass_y)\n",
    "    weat_es = weat / np.std(ass_x + ass_y)\n",
    "    \n",
    "    return weat, weat_es\n",
    "\n",
    "def load_model(model_name):\n",
    "    model_path = path_to_fasttext_models / model_name\n",
    "    assert Path(model_path).is_file(), f\"{model_path} does not exist\"\n",
    "    print(\"Loading model from \", model_path)\n",
    "    ft = fasttext.load_model(str(model_path))\n",
    "    return ft"
   ]
  },
  {
   "cell_type": "markdown",
   "id": "c4f685c1",
   "metadata": {},
   "source": [
    "# Test with english model"
   ]
  },
  {
   "cell_type": "code",
   "execution_count": 5,
   "id": "edef18ff",
   "metadata": {},
   "outputs": [
    {
     "name": "stdout",
     "output_type": "stream",
     "text": [
      "CPU times: user 0 ns, sys: 2 µs, total: 2 µs\n",
      "Wall time: 5.72 µs\n",
      "Loading model from  ../socio_wordvec/notebooks/cc.en.300.bin\n"
     ]
    },
    {
     "name": "stderr",
     "output_type": "stream",
     "text": [
      "Warning : `load_model` does not return WordVectorModel or SupervisedModel any more, but a `FastText` object which is very similar.\n"
     ]
    }
   ],
   "source": [
    "%time\n",
    "lang = \"en\"\n",
    "model_name = f\"cc.{lang}.300.bin\" # the model file (should be the same, ending by '.bin')\n",
    "model = load_model(model_name)"
   ]
  },
  {
   "cell_type": "code",
   "execution_count": 6,
   "id": "eb09ef70",
   "metadata": {},
   "outputs": [
    {
     "data": {
      "text/plain": [
       "(0.059203893, 2.0)"
      ]
     },
     "execution_count": 6,
     "metadata": {},
     "output_type": "execute_result"
    }
   ],
   "source": [
    "A = [\"man\"]\n",
    "B = [\"woman\"]\n",
    "X = [\"career\"]\n",
    "Y = [\"wedding\"]\n",
    "\n",
    "weat, weat_es = weat_score(X, Y, A, B, model)\n",
    "weat, weat_es"
   ]
  },
  {
   "cell_type": "code",
   "execution_count": 7,
   "id": "2be767e4",
   "metadata": {},
   "outputs": [
    {
     "data": {
      "text/plain": [
       "(0.0009842217, 2.0)"
      ]
     },
     "execution_count": 7,
     "metadata": {},
     "output_type": "execute_result"
    }
   ],
   "source": [
    "A = [\"man\"]\n",
    "B = [\"woman\"]\n",
    "X = [\"career\"]\n",
    "Y = [\"family\"]\n",
    "\n",
    "weat, weat_es = weat_score(X, Y, A, B, model)\n",
    "weat, weat_es"
   ]
  },
  {
   "cell_type": "code",
   "execution_count": 8,
   "id": "f3649c8e",
   "metadata": {},
   "outputs": [
    {
     "data": {
      "text/plain": [
       "(0.08110222, 2.0)"
      ]
     },
     "execution_count": 8,
     "metadata": {},
     "output_type": "execute_result"
    }
   ],
   "source": [
    "A = [\"man\"]\n",
    "B = [\"woman\"]\n",
    "X = [\"career\"]\n",
    "Y = [\"children\"]\n",
    "\n",
    "weat, weat_es = weat_score(X, Y, A, B, model)\n",
    "weat, weat_es"
   ]
  },
  {
   "cell_type": "code",
   "execution_count": 9,
   "id": "bf85ccd7",
   "metadata": {},
   "outputs": [
    {
     "data": {
      "text/plain": [
       "0.2529125"
      ]
     },
     "execution_count": 9,
     "metadata": {},
     "output_type": "execute_result"
    }
   ],
   "source": [
    "x = model [\"man\"]\n",
    "y = model [\"children\"]\n",
    "similarity(x,y)"
   ]
  },
  {
   "cell_type": "code",
   "execution_count": 10,
   "id": "63731c54",
   "metadata": {},
   "outputs": [
    {
     "data": {
      "text/plain": [
       "(0.09027621, 1.7388039)"
      ]
     },
     "execution_count": 10,
     "metadata": {},
     "output_type": "execute_result"
    }
   ],
   "source": [
    "A = [\"man\", \"he\"]\n",
    "B = [\"woman\", \"she\"]\n",
    "X = [\"salary\", \"career\"]\n",
    "Y = [\"home\", \"wedding\"]\n",
    "\n",
    "weat, weat_es = weat_score(X, Y, A, B, model)\n",
    "weat, weat_es"
   ]
  },
  {
   "cell_type": "code",
   "execution_count": 11,
   "id": "5a7237b8",
   "metadata": {},
   "outputs": [
    {
     "data": {
      "text/plain": [
       "(0.042019784, 1.359282)"
      ]
     },
     "execution_count": 11,
     "metadata": {},
     "output_type": "execute_result"
    }
   ],
   "source": [
    "A = [\"male\", \"man\", \"boy\", \"brother\", \"he\", \"him\", \"his\", \"son\"]\n",
    "B = [\"female\", \"woman\", \"girl\", \"sister\", \"she\", \"her\", \"hers\", \"daughter\"]\n",
    "X = [\"executive\", \"management\", \"professional\", \"corporation\", \"salary\", \"office\", \"business\", \"career\"]\n",
    "Y = [\"home\", \"parents\", \"children\", \"family\", \"cousins\", \"marriage\", \"wedding\", \"relatives\"]\n",
    "\n",
    "weat, weat_es = weat_score(X, Y, A, B, model)\n",
    "weat, weat_es"
   ]
  },
  {
   "cell_type": "code",
   "execution_count": 12,
   "id": "521d9374",
   "metadata": {},
   "outputs": [
    {
     "data": {
      "text/plain": [
       "(0.042019784, 0.39894468)"
      ]
     },
     "execution_count": 12,
     "metadata": {},
     "output_type": "execute_result"
    }
   ],
   "source": [
    "X = [\"male\", \"man\", \"boy\", \"brother\", \"he\", \"him\", \"his\", \"son\"]\n",
    "Y = [\"female\", \"woman\", \"girl\", \"sister\", \"she\", \"her\", \"hers\", \"daughter\"]\n",
    "A = [\"executive\", \"management\", \"professional\", \"corporation\", \"salary\", \"office\", \"business\", \"career\"]\n",
    "B = [\"home\", \"parents\", \"children\", \"family\", \"cousins\", \"marriage\", \"wedding\", \"relatives\"]\n",
    "\n",
    "weat, weat_es = weat_score(X, Y, A, B, model)\n",
    "weat, weat_es"
   ]
  },
  {
   "cell_type": "code",
   "execution_count": 13,
   "id": "72ee7c7f",
   "metadata": {},
   "outputs": [
    {
     "data": {
      "text/plain": [
       "(0.08375169, 1.7685586)"
      ]
     },
     "execution_count": 13,
     "metadata": {},
     "output_type": "execute_result"
    }
   ],
   "source": [
    "A = [\"man\"]\n",
    "B = [\"woman\"]\n",
    "X = [\"career\", \"management\"]\n",
    "Y = [\"wedding\", \"parents\"]\n",
    "\n",
    "weat, weat_es = weat_score(X, Y, A, B, model)\n",
    "weat, weat_es"
   ]
  },
  {
   "cell_type": "code",
   "execution_count": 14,
   "id": "a39655ed",
   "metadata": {},
   "outputs": [
    {
     "name": "stdout",
     "output_type": "stream",
     "text": [
      "CPU times: user 1 µs, sys: 2 µs, total: 3 µs\n",
      "Wall time: 7.39 µs\n",
      "Loading model from  ../socio_wordvec/notebooks/cc.en.300.bin\n"
     ]
    },
    {
     "name": "stderr",
     "output_type": "stream",
     "text": [
      "Warning : `load_model` does not return WordVectorModel or SupervisedModel any more, but a `FastText` object which is very similar.\n"
     ]
    }
   ],
   "source": [
    "%time\n",
    "lang=\"en\" # Select the language here, english. \n",
    "model_name = f\"cc.{lang}.300.bin\" # the model file (should be the same, ending by '.bin')\n",
    "model = load_model(model_name)"
   ]
  },
  {
   "cell_type": "code",
   "execution_count": 15,
   "id": "f4a5e321",
   "metadata": {},
   "outputs": [
    {
     "data": {
      "text/plain": [
       "(0.042019784, 1.359282)"
      ]
     },
     "execution_count": 15,
     "metadata": {},
     "output_type": "execute_result"
    }
   ],
   "source": [
    "A = [\"male\", \"man\", \"boy\", \"brother\", \"he\", \"him\", \"his\", \"son\"]\n",
    "B = [\"female\", \"woman\", \"girl\", \"sister\", \"she\", \"her\", \"hers\", \"daughter\"]\n",
    "X = [\"executive\", \"management\", \"professional\", \"corporation\", \"salary\", \"office\", \"business\", \"career\"]\n",
    "Y = [\"home\", \"parents\", \"children\", \"family\", \"cousins\", \"marriage\", \"wedding\", \"relatives\"]\n",
    "\n",
    "weat, weat_es = weat_score(X, Y, A, B, model)\n",
    "weat, weat_es"
   ]
  },
  {
   "cell_type": "code",
   "execution_count": 16,
   "id": "990fdf94",
   "metadata": {},
   "outputs": [
    {
     "data": {
      "text/plain": [
       "(0.042019784, 0.39894468)"
      ]
     },
     "execution_count": 16,
     "metadata": {},
     "output_type": "execute_result"
    }
   ],
   "source": [
    "X = [\"male\", \"man\", \"boy\", \"brother\", \"he\", \"him\", \"his\", \"son\"]\n",
    "Y = [\"female\", \"woman\", \"girl\", \"sister\", \"she\", \"her\", \"hers\", \"daughter\"]\n",
    "A = [\"executive\", \"management\", \"professional\", \"corporation\", \"salary\", \"office\", \"business\", \"career\"]\n",
    "B = [\"home\", \"parents\", \"children\", \"family\", \"cousins\", \"marriage\", \"wedding\", \"relatives\"]\n",
    "\n",
    "weat, weat_es = weat_score(X, Y, A, B, model)\n",
    "weat, weat_es"
   ]
  },
  {
   "cell_type": "markdown",
   "id": "3210cf61",
   "metadata": {},
   "source": [
    "# Generalize to other languages"
   ]
  },
  {
   "cell_type": "markdown",
   "id": "7203a273",
   "metadata": {},
   "source": [
    "## Functions"
   ]
  },
  {
   "cell_type": "code",
   "execution_count": 17,
   "id": "c1bd8c50",
   "metadata": {},
   "outputs": [],
   "source": [
    "from deep_translator import GoogleTranslator\n",
    "def run_exp_google_tr(lang, X, Y, A, B):\n",
    "    model_name = f\"cc.{lang}.300.bin\" # the model file (should be the same, ending by '.bin')\n",
    "    model = load_model(model_name)\n",
    "\n",
    "    # Traduction\n",
    "    trs = {}\n",
    "    for name, words in zip([\"A\", \"B\", \"X\", \"Y\"], [A, B, X, Y]):\n",
    "        out = []\n",
    "        for w in words:\n",
    "            tw = GoogleTranslator(source='en', target=lang).translate(text=w)\n",
    "            tw = tw.strip()\n",
    "            out.append(tw)\n",
    "        print(name, out)\n",
    "        trs[name] = out\n",
    "\n",
    "    weat, weat_es = weat_score(trs[\"X\"], \n",
    "                               trs[\"Y\"], \n",
    "                               trs[\"A\"], \n",
    "                               trs[\"B\"], \n",
    "                               model)\n",
    "    return weat, weat_es, trs"
   ]
  },
  {
   "cell_type": "markdown",
   "id": "686e9fe3",
   "metadata": {},
   "source": [
    "## Example for italian"
   ]
  },
  {
   "cell_type": "code",
   "execution_count": 18,
   "id": "2d01b27b",
   "metadata": {},
   "outputs": [
    {
     "name": "stdout",
     "output_type": "stream",
     "text": [
      "Loading model from  ../socio_wordvec/notebooks/cc.it.300.bin\n"
     ]
    },
    {
     "name": "stderr",
     "output_type": "stream",
     "text": [
      "Warning : `load_model` does not return WordVectorModel or SupervisedModel any more, but a `FastText` object which is very similar.\n"
     ]
    },
    {
     "name": "stdout",
     "output_type": "stream",
     "text": [
      "A ['esecutivo', 'gestione', 'professionale', 'società', 'stipendio', 'ufficio', 'attività commerciale', 'carriera']\n",
      "B ['casa', 'genitori', 'bambini', 'famiglia', 'cugini', 'matrimonio', 'nozze', 'parenti']\n",
      "X ['maschio', 'uomo', 'ragazzo', 'fratello', 'lui', 'lui', 'la sua', 'figlio']\n",
      "Y ['femmina', 'donna', 'ragazza', 'sorella', 'lei', 'sua', 'la sua', 'figlia']\n",
      "weat 0.0123478845\n",
      "weat_es 0.12605372\n",
      "translations {'A': ['esecutivo', 'gestione', 'professionale', 'società', 'stipendio', 'ufficio', 'attività commerciale', 'carriera'], 'B': ['casa', 'genitori', 'bambini', 'famiglia', 'cugini', 'matrimonio', 'nozze', 'parenti'], 'X': ['maschio', 'uomo', 'ragazzo', 'fratello', 'lui', 'lui', 'la sua', 'figlio'], 'Y': ['femmina', 'donna', 'ragazza', 'sorella', 'lei', 'sua', 'la sua', 'figlia']}\n"
     ]
    }
   ],
   "source": [
    "X = [\"male\", \"man\", \"boy\", \"brother\", \"he\", \"him\", \"his\", \"son\"]\n",
    "Y = [\"female\", \"woman\", \"girl\", \"sister\", \"she\", \"her\", \"hers\", \"daughter\"]\n",
    "A = [\"executive\", \"management\", \"professional\", \"corporation\", \"salary\", \"office\", \"business\", \"career\"]\n",
    "B = [\"home\", \"parents\", \"children\", \"family\", \"cousins\", \"marriage\", \"wedding\", \"relatives\"]\n",
    "\n",
    "weat, weat_es, translations = run_exp_google_tr(\"it\", X, Y, A, B)\n",
    "\n",
    "print(\"weat\", weat)\n",
    "print(\"weat_es\", weat_es)\n",
    "print(\"translations\", translations)"
   ]
  },
  {
   "cell_type": "markdown",
   "id": "f6f9d900",
   "metadata": {},
   "source": [
    "## All languages"
   ]
  },
  {
   "cell_type": "markdown",
   "id": "9711c860",
   "metadata": {},
   "source": [
    "Select languages"
   ]
  },
  {
   "cell_type": "code",
   "execution_count": 20,
   "id": "87f10e20",
   "metadata": {},
   "outputs": [],
   "source": [
    "all_languages = [\"af\", \"sq\", \"ar\", \"hy\", \"az\", \"be\", \"bn\", \"bs\", \"bg\", \"my\", \"hr\", \"cs\", \"da\", \"nl\", \"en\", \"et\", \"fi\", \"fr\", \"gl\", \"ka\", \"de\", \"el\", \"hi\", \"hu\", \"is\", \"id\", \"ga\", \"it\", \"ja\", \"kk\", \"km\", \"ky\", \"ko\", \"ku\", \"lv\", \"lt\", \"lb\", \"mk\", \"mg\", \"ms\", \"mt\", \"ne\", \"no\", \"ps\", \"fa\", \"pl\", \"pt\", \"qu\", \"ro\", \"ru\", \"gd\", \"sd\", \"sr\", \"sl\", \"sk\", \"so\", \"es\", \"th\", \"vi\", \"uk\", \"uz\", \"he\", \"sv\", \"tl\", \"tr\", \"ur\", \"zh\", \"th\", \"vi\", \"uk\", \"uz\", \"he\", \"sv\", \"tl\", \"tr\", \"ur\", \"zh\"]\n"
   ]
  },
  {
   "cell_type": "markdown",
   "id": "e56459e6",
   "metadata": {},
   "source": [
    "Check languages that are compatible with translations"
   ]
  },
  {
   "cell_type": "code",
   "execution_count": 21,
   "id": "2df8907f",
   "metadata": {},
   "outputs": [
    {
     "name": "stdout",
     "output_type": "stream",
     "text": [
      "Missing translations for lang ['he', 'zh', 'he', 'zh']\n"
     ]
    }
   ],
   "source": [
    "tr = GoogleTranslator()\n",
    "all_google_languages = tr.get_supported_languages(as_dict=True)\n",
    "all_google_languages = all_google_languages.values()\n",
    "missing_google_languages = [x for x in all_languages if x not in all_google_languages]\n",
    "print(f\"Missing translations for lang {missing_google_languages}\")"
   ]
  },
  {
   "cell_type": "markdown",
   "id": "75397dab",
   "metadata": {},
   "source": [
    "Check that models exists"
   ]
  },
  {
   "cell_type": "code",
   "execution_count": 22,
   "id": "30d63309",
   "metadata": {},
   "outputs": [
    {
     "name": "stdout",
     "output_type": "stream",
     "text": [
      "Missing models for lang []\n"
     ]
    }
   ],
   "source": [
    "all_models = path_to_fasttext_models.glob(\"cc.*.bin\")\n",
    "all_models = [p.stem.split(\".\")[1] for p in all_models]\n",
    "missing_models = [l for l in all_languages if l not in all_models]\n",
    "print(f\"Missing models for lang {missing_models}\")"
   ]
  },
  {
   "cell_type": "markdown",
   "id": "237fae16",
   "metadata": {},
   "source": [
    "Select intersection"
   ]
  },
  {
   "cell_type": "code",
   "execution_count": 23,
   "id": "ea0d30dc",
   "metadata": {
    "scrolled": true
   },
   "outputs": [
    {
     "name": "stdout",
     "output_type": "stream",
     "text": [
      "73 languages out of 77\n"
     ]
    }
   ],
   "source": [
    "sel_languages = [lang for lang in all_languages if (lang in all_models) and lang in all_google_languages]\n",
    "print(f\"{len(sel_languages)} languages out of {len(all_languages)}\")"
   ]
  },
  {
   "cell_type": "markdown",
   "id": "52a510f9",
   "metadata": {},
   "source": [
    "## Run on cluster"
   ]
  },
  {
   "cell_type": "code",
   "execution_count": 26,
   "id": "6d5a8683",
   "metadata": {},
   "outputs": [],
   "source": [
    "def submit_job(lang, reduced=False):\n",
    "    if reduced:\n",
    "        A = [\"man\", \"he\"]\n",
    "        B = [\"woman\", \"she\"]\n",
    "        X = [\"salary\", \"career\"]\n",
    "        Y = [\"home\", \"wedding\"]\n",
    "    else:\n",
    "        X = [\"male\", \"man\", \"boy\", \"brother\", \"he\", \"him\", \"his\", \"son\"]\n",
    "        Y = [\"female\", \"woman\", \"girl\", \"sister\", \"she\", \"her\", \"hers\", \"daughter\"]\n",
    "        A = [\"executive\", \"management\", \"professional\", \"corporation\", \"salary\", \"office\", \"business\", \"career\"]\n",
    "        B = [\"home\", \"parents\", \"children\", \"family\", \"cousins\", \"marriage\", \"wedding\", \"relatives\"]\n",
    "    weat, weat_es, translations = run_exp_google_tr(lang, X, Y, A, B)\n",
    "    return weat, weat_es, translations"
   ]
  },
  {
   "cell_type": "code",
   "execution_count": 27,
   "id": "c466f572",
   "metadata": {},
   "outputs": [
    {
     "name": "stdout",
     "output_type": "stream",
     "text": [
      "Loading model from  ../socio_wordvec/notebooks/cc.it.300.bin\n"
     ]
    },
    {
     "name": "stderr",
     "output_type": "stream",
     "text": [
      "Warning : `load_model` does not return WordVectorModel or SupervisedModel any more, but a `FastText` object which is very similar.\n"
     ]
    },
    {
     "name": "stdout",
     "output_type": "stream",
     "text": [
      "A ['esecutivo', 'gestione', 'professionale', 'società', 'stipendio', 'ufficio', 'attività commerciale', 'carriera']\n",
      "B ['casa', 'genitori', 'bambini', 'famiglia', 'cugini', 'matrimonio', 'nozze', 'parenti']\n",
      "X ['maschio', 'uomo', 'ragazzo', 'fratello', 'lui', 'lui', 'la sua', 'figlio']\n",
      "Y ['femmina', 'donna', 'ragazza', 'sorella', 'lei', 'sua', 'la sua', 'figlia']\n"
     ]
    }
   ],
   "source": [
    "weat, weat_es, translations = submit_job(\"it\")"
   ]
  },
  {
   "cell_type": "code",
   "execution_count": 28,
   "id": "e12a2a64",
   "metadata": {},
   "outputs": [],
   "source": [
    "import submitit\n",
    "from submitit import AutoExecutor\n",
    "executor = AutoExecutor(\n",
    "            f\"submitit_jobs/submitit_jobs/wordemb_bias\")\n",
    "executor.update_parameters(\n",
    "    slurm_partition=\"devlab\",\n",
    "    slurm_array_parallelism=200,\n",
    "    timeout_min=60,\n",
    "    name=\"wordemb_bias\",\n",
    "    mem_gb=40,\n",
    "    cpus_per_task=2,\n",
    "    gpus_per_node=0,\n",
    ")\n",
    "\n",
    "jobs_all_words = executor.map_array(submit_job, all_languages)"
   ]
  },
  {
   "cell_type": "code",
   "execution_count": 29,
   "id": "03e7b45b",
   "metadata": {},
   "outputs": [],
   "source": [
    "jobs_reduced = executor.map_array(submit_job, all_languages, [True]*len(all_languages))"
   ]
  },
  {
   "cell_type": "markdown",
   "id": "68e8d379",
   "metadata": {},
   "source": [
    "## Load results"
   ]
  },
  {
   "cell_type": "code",
   "execution_count": 43,
   "id": "1c0ef3ce",
   "metadata": {},
   "outputs": [
    {
     "name": "stdout",
     "output_type": "stream",
     "text": [
      "4 FAILED jobs, 72 COMPLETED out of 77 jobs\n",
      "FAILED languages: ['he' 'zh' 'he' 'zh']\n"
     ]
    }
   ],
   "source": [
    "jobs = jobs_reduced\n",
    "is_completed = np.array([j.state==\"COMPLETED\" for j in jobs])\n",
    "is_failed = np.array([j.state==\"FAILED\" for j in jobs])\n",
    "print(f\"{is_failed.sum()} FAILED jobs, {is_completed.sum()} COMPLETED out of {len(jobs)} jobs\")\n",
    "print(f\"FAILED languages: {np.array(all_languages)[is_failed]}\")\n",
    "langs = np.array(all_languages)[is_completed]\n",
    "results = [j.results()[0] for (i, j) in enumerate(jobs) if is_completed[i]]"
   ]
  },
  {
   "cell_type": "code",
   "execution_count": 44,
   "id": "7bc7398b",
   "metadata": {
    "scrolled": true
   },
   "outputs": [],
   "source": [
    "import pandas as pd\n",
    "weat = [r[0] for r in results]\n",
    "weat_std = [r[1] for r in results]\n",
    "trads = {k: [r[-1][k] for r in results] for k in [\"A\", \"B\", \"X\", \"Y\"]}"
   ]
  },
  {
   "cell_type": "code",
   "execution_count": 45,
   "id": "698b37a4",
   "metadata": {
    "scrolled": true
   },
   "outputs": [],
   "source": [
    "df = pd.DataFrame({\"lang\": langs, \"weat\": weat, \"weat_std\": weat_std, **trads})"
   ]
  },
  {
   "cell_type": "code",
   "execution_count": 46,
   "id": "91533ed0",
   "metadata": {
    "scrolled": false
   },
   "outputs": [
    {
     "name": "stdout",
     "output_type": "stream",
     "text": [
      ",lang,weat,weat_std,A,B,X,Y\n",
      "0,af,0.015783235,0.43804803,\"['man', 'hy']\",\"['vrou', 'sy']\",\"['salaris', 'loopbaan']\",\"['tuis', 'troue']\"\n",
      "1,sq,0.10622085,1.9631861,\"['njeri', 'ai']\",\"['grua', 'ajo']\",\"['paga', 'karrierës']\",\"['shtëpi', 'dasma']\"\n",
      "2,ar,0.06379421,0.94665915,\"['رجل', 'هو']\",\"['النساء', 'هي']\",\"['راتب', 'مسار مهني مسار وظيفي']\",\"['الصفحة الرئيسية', 'حفل زواج']\"\n",
      "3,hy,0.0022929087,0.076396756,\"['մարդ', 'նա']\",\"['կին', 'նա']\",\"['աշխատավարձ', 'կարիերա']\",\"['տուն', 'հարսանիք']\"\n",
      "4,az,0.005019672,0.15148214,\"['adam', 'o']\",\"['qadın', 'o']\",\"['maaş', 'karyera']\",\"['ev', 'toy']\"\n",
      "5,be,0.029921457,0.59501183,\"['чалавек', 'ён']\",\"['жанчына', 'яна']\",\"['зарплата', \"\"кар'ера\"\"]\",\"['дадому', 'вяселле']\"\n",
      "6,bn,0.074292004,1.3269458,\"['মানুষ', 'তিনি']\",\"['মহিলা', 'সে']\",\"['বেতন', 'কর্মজীবন']\",\"['বাড়ি', 'বিবাহ']\"\n",
      "7,bs,-0.10816908,-1.9941343,\"['covece', 'on']\",\"['zena', 'ona']\",\"['plata', 'karijera']\",\"['Dom', 'vjenčanje']\"\n",
      "8,bg,-0.08184309,-0.895407,\"['човек', 'той']\",\"['жена', 'тя']\",\"['заплата', 'кариера']\",\"['У дома', 'сватба']\"\n",
      "9,my,0.08138044,1.9168602,\"['လူ', 'သူ']\",\"['မိန်းမ', 'သူမ']\",\"['လစာ', 'အသက်မွေးဝမ်းကျောင်း']\",\"['အိမ်', 'မင်္ဂလာဆောင်']\"\n",
      "10,hr,-0.06540111,-1.2012278,\"['čovjek', 'on']\",\"['žena', 'ona']\",\"['plaća', 'karijera']\",\"['Dom', 'vjenčanje']\"\n",
      "11,cs,-0.008384883,-0.08657906,\"['muž', 'on']\",\"['žena', 'ona']\",\"['plat', 'kariéra']\",\"['Domov', 'svatba']\"\n",
      "12,da,0.044140562,1.4538,\"['mand', 'han']\",\"['kvinde', 'hun']\",\"['løn', 'karriere']\",\"['hjem', 'bryllup']\"\n",
      "13,nl,0.0722154,1.2324023,\"['Mens', 'hij']\",\"['vrouw', 'zij']\",\"['salaris', 'carrière']\",\"['thuis', 'bruiloft']\"\n",
      "14,en,0.09027621,1.738804,\"['man', 'he']\",\"['woman', 'she']\",\"['salary', 'career']\",\"['home', 'wedding']\"\n",
      "15,fi,0.008607991,0.918985,\"['mies', 'hän']\",\"['nainen', 'hän']\",\"['palkkaa', 'ura']\",\"['Koti', 'häät']\"\n",
      "16,fr,0.02519603,0.6676562,\"['homme', 'il']\",\"['femme', 'elle']\",\"['salaire', 'carrière']\",\"['domicile', 'mariage']\"\n",
      "17,gl,0.08748405,1.1428667,\"['home', 'el']\",\"['muller', 'ela']\",\"['salario', 'carreira']\",\"['casa', 'voda']\"\n",
      "18,ka,-0.013267875,-0.8281321,\"['კაცი', 'ის']\",\"['ქალი', 'ის']\",\"['ხელფასი', 'კარიერა']\",\"['სახლში', 'ქორწილი']\"\n",
      "19,de,0.07031724,1.9414655,\"['Mann', 'er']\",\"['Frau', 'sie']\",\"['Gehalt', 'Werdegang']\",\"['Zuhause', 'Hochzeit']\"\n",
      "20,el,-0.039604887,-0.38028726,\"['άνδρας', 'αυτός']\",\"['γυναίκα', 'αυτή']\",\"['Μισθός', 'καριέρα']\",\"['Σπίτι', 'γάμος']\"\n",
      "21,hi,0.018396609,0.63621914,\"['आदमी', 'वह']\",\"['महिला', 'वह']\",\"['वेतन', 'आजीविका']\",\"['घर', 'शादी']\"\n",
      "22,hu,-0.0064003263,-1.3121337,\"['Férfi', 'ő']\",\"['nő', 'ő']\",\"['fizetés', 'karrier']\",\"['itthon', 'esküvő']\"\n",
      "23,is,0.038518645,0.72217476,\"['maður', 'hann']\",\"['konu', 'hún']\",\"['laun', 'feril']\",\"['heim', 'brúðkaup']\"\n",
      "24,id,0.017130494,0.8225934,\"['manusia', 'dia']\",\"['wanita', 'dia']\",\"['gaji', 'karier']\",\"['rumah', 'pernikahan']\"\n",
      "25,ga,-0.03890737,-1.1191514,\"['fear', 'sé']\",\"['bean', 'sí']\",\"['tuarastal', 'gairme']\",\"['abhaile', 'bainise']\"\n",
      "26,it,0.06344267,1.4222057,\"['uomo', 'lui']\",\"['donna', 'lei']\",\"['stipendio', 'carriera']\",\"['casa', 'nozze']\"\n",
      "27,ja,-0.020851389,-0.6171698,\"['男', '彼']\",\"['女性', '彼女']\",\"['給料', 'キャリア']\",\"['家', '結婚式']\"\n",
      "28,kk,-0.013484329,-0.4240153,\"['адам', 'ол']\",\"['әйел', 'ол']\",\"['жалақы', 'Мансап']\",\"['үй', 'үйлену той']\"\n",
      "29,km,0.035246395,0.86741245,\"['បុរស', 'គាត់']\",\"['ស្ត្រី', 'នាង']\",\"['ប្រាក់ខែ', 'អាជីព']\",\"['ផ្ទះ', 'អាពាហ៍ពិពាហ៍']\"\n",
      "30,ky,0.045588017,1.7545664,\"['адам', 'ал']\",\"['аял', 'ал']\",\"['эмгек акы', 'мансап']\",\"['үй', 'үйлөнүү']\"\n",
      "31,ko,0.011277035,1.8524115,\"['남성', '그']\",\"['여성', '그녀']\",\"['샐러리', '직업']\",\"['집', '혼례']\"\n",
      "32,ku,0.010607628,0.23934996,\"['mêr', 'ew']\",\"['jin', 'wê']\",\"['meaş', 'pêşveçûnî']\",\"['xane', 'dîlan']\"\n",
      "33,lv,0.04148095,1.8865843,\"['vīrietis', 'viņš']\",\"['sieviete', 'viņa']\",\"['algu', 'karjeru']\",\"['mājas', 'kāzas']\"\n",
      "34,lt,0.051904723,1.0891095,\"['vyras', 'jis']\",\"['moteris', 'ji']\",\"['atlyginimas', 'karjerą']\",\"['namai', 'Vestuvės']\"\n",
      "35,lb,0.09643342,1.4747438,\"['Mann', 'hien']\",\"['frau', 'si']\",\"['Gehalt', 'Carrière']\",\"['doheem', 'Hochzäit']\"\n",
      "36,mk,0.0059917793,0.37581098,\"['човек', 'тој']\",\"['жена', 'таа']\",\"['плата', 'кариера']\",\"['дома', 'Свадба']\"\n",
      "37,mg,0.07919589,1.8222958,\"['olona', 'izy']\",\"['VEHIVAVY', 'izy']\",\"['karama', 'asany']\",\"['an-trano', 'fampakaram-bady']\"\n",
      "38,ms,0.033902124,1.8810325,\"['lelaki', 'dia']\",\"['perempuan', 'dia']\",\"['gaji', 'kerjaya']\",\"['rumah', 'perkahwinan']\"\n",
      "39,mt,0.044234026,1.4718257,\"['bniedem', 'hu']\",\"['mara', 'hi']\",\"['salarju', 'karriera']\",\"['dar', 'tieġ']\"\n",
      "40,ne,-0.029907152,-0.94048864,\"['मान्छे', 'उहाँ']\",\"['महिला', 'उनी']\",\"['तलब', 'क्यारियर']\",\"['घर', 'विवाह']\"\n",
      "41,no,0.035972364,1.0479988,\"['Mann', 'han']\",\"['kvinne', 'hun']\",\"['lønn', 'karriere']\",\"['hjem', 'bryllup']\"\n",
      "42,ps,0.11664669,1.5871445,\"['سړی', 'هغه']\",\"['ښځه', 'هغې']\",\"['معاش', 'مسلک']\",\"['کور', 'واده']\"\n",
      "43,fa,-0.024583437,-1.9752059,\"['مرد', 'او']\",\"['زن', 'او']\",\"['حقوق', 'حرفه']\",\"['خانه', 'عروسی']\"\n",
      "44,pl,-0.15334357,-1.8160398,\"['człowiek', 'on']\",\"['kobieta', 'Ona']\",\"['pensja', 'kariera']\",\"['Dom', 'ślub']\"\n",
      "45,pt,0.041501127,1.4274703,\"['cara', 'ele']\",\"['mulher', 'ela']\",\"['salário', 'carreira']\",\"['casa', 'Casamento']\"\n",
      "46,qu,-0.007853787,-0.15279098,\"['qari', 'pay']\",\"['warmi', 'pay']\",\"['salario', 'carrera']\",\"['wasi', 'casarakuy']\"\n",
      "47,ro,0.056544423,0.7876202,\"['om', 'el']\",\"['femeie', 'ea']\",\"['salariu', 'Carieră']\",\"['Acasă', 'nuntă']\"\n",
      "48,ru,-0.047160298,-0.5588708,\"['человек', 'он']\",\"['женщина', 'она']\",\"['зарплата', 'карьера']\",\"['дом', 'свадьба']\"\n",
      "49,gd,0.00022861362,0.006929033,\"['fear', 'esan']\",\"['boireannach', 'i']\",\"['tuarastal', 'dreuchd']\",\"['dhachaidh', 'banais']\"\n",
      "50,sd,0.08218461,1.162943,\"['ماڻهو', 'هو']\",\"['عورت', 'هوءَ']\",\"['تنخواه', 'ڪيريئر']\",\"['گھر', 'شادي']\"\n",
      "51,sr,-0.004394084,-0.18364038,\"['човек', 'он']\",\"['жена', 'она']\",\"['плата', 'каријера']\",\"['кућа', 'венчање']\"\n",
      "52,sl,-0.029401392,-0.9221204,\"['moški', 'on']\",\"['ženska', 'ona']\",\"['plača', 'kariera']\",\"['domov', 'poroka']\"\n",
      "53,sk,-0.036565043,-0.47254387,\"['muž', 'on']\",\"['žena', 'ona']\",\"['plat', 'kariéra']\",\"['Domov', 'svadba']\"\n",
      "54,so,-0.0065486506,-0.1269571,\"['nin', 'isaga']\",\"['naag', 'iyada']\",\"['mushaharka', 'xirfad shaqo']\",\"['guriga', 'aroos']\"\n",
      "55,es,0.125916,1.7281752,\"['hombre', 'él']\",\"['mujer', 'ella']\",\"['sueldo', 'carrera']\",\"['casa', 'boda']\"\n",
      "56,th,0.035245515,0.47814736,\"['ผู้ชาย', 'เขา']\",\"['ผู้หญิง', 'เธอ']\",\"['เงินเดือน', 'อาชีพ']\",\"['บ้าน', 'งานแต่งงาน']\"\n",
      "57,vi,-0.05913037,-1.6689452,\"['Đàn ông', 'anh ta']\",\"['người đàn bà', 'bà ấy']\",\"['lương', 'nghề nghiệp']\",\"['Trang Chủ', 'lễ cưới']\"\n",
      "58,uk,0.04039485,0.94114244,\"['людина', 'він']\",\"['жінка', 'вона']\",\"['зарплата', \"\"кар'єра\"\"]\",\"['додому', 'весілля']\"\n",
      "59,uz,0.057747427,1.6751503,\"['kishi', 'u']\",\"['ayol', 'u']\",\"['ish haqi', 'martaba']\",\"['uy', \"\"to'y\"\"]\"\n",
      "60,sv,0.036517046,1.7885897,\"['man', 'han']\",\"['kvinna', 'hon']\",\"['lön', 'karriär']\",\"['Hem', 'bröllop']\"\n",
      "61,tl,0.017462343,1.3551477,\"['lalaki', 'siya']\",\"['babae', 'siya']\",\"['suweldo', 'karera']\",\"['bahay', 'kasal']\"\n",
      "62,tr,0.02454492,1.0718534,\"['adam', 'o']\",\"['Kadın', 'o']\",\"['aylık maaş', 'kariyer']\",\"['ev', 'düğün']\"\n",
      "63,ur,0.052182324,1.0282587,\"['آدمی', 'وہ']\",\"['عورت', 'وہ']\",\"['تنخواہ', 'کیریئر']\",\"['گھر', 'شادی']\"\n",
      "64,th,0.035245515,0.47814736,\"['ผู้ชาย', 'เขา']\",\"['ผู้หญิง', 'เธอ']\",\"['เงินเดือน', 'อาชีพ']\",\"['บ้าน', 'งานแต่งงาน']\"\n",
      "65,vi,-0.05913037,-1.6689452,\"['Đàn ông', 'anh ta']\",\"['người đàn bà', 'bà ấy']\",\"['lương', 'nghề nghiệp']\",\"['Trang Chủ', 'lễ cưới']\"\n",
      "66,uk,0.04039485,0.94114244,\"['людина', 'він']\",\"['жінка', 'вона']\",\"['зарплата', \"\"кар'єра\"\"]\",\"['додому', 'весілля']\"\n",
      "67,uz,0.057747427,1.6751503,\"['kishi', 'u']\",\"['ayol', 'u']\",\"['ish haqi', 'martaba']\",\"['uy', \"\"to'y\"\"]\"\n",
      "68,sv,0.036517046,1.7885897,\"['man', 'han']\",\"['kvinna', 'hon']\",\"['lön', 'karriär']\",\"['Hem', 'bröllop']\"\n",
      "69,tl,0.017462343,1.3551477,\"['lalaki', 'siya']\",\"['babae', 'siya']\",\"['suweldo', 'karera']\",\"['bahay', 'kasal']\"\n",
      "70,tr,0.02454492,1.0718534,\"['adam', 'o']\",\"['Kadın', 'o']\",\"['aylık maaş', 'kariyer']\",\"['ev', 'düğün']\"\n",
      "71,ur,0.052182324,1.0282587,\"['آدمی', 'وہ']\",\"['عورت', 'وہ']\",\"['تنخواہ', 'کیریئر']\",\"['گھر', 'شادی']\"\n",
      "\n"
     ]
    }
   ],
   "source": [
    "print(df.to_csv())"
   ]
  },
  {
   "cell_type": "markdown",
   "id": "2e3dd652",
   "metadata": {},
   "source": [
    "## Download missing models"
   ]
  },
  {
   "cell_type": "code",
   "execution_count": null,
   "id": "4c8a7c23",
   "metadata": {},
   "outputs": [],
   "source": [
    "import fasttext.util\n",
    "sel_languages = \"af\", \"sq\", \"ar\", \"hy\", \"az\", \"be\", \"bn\", \"bs\", \"bg\", \"my\", \"hr\", \"cs\", \"da\", \"nl\", \"en\", \"et\", \"fi\", \"fr\", \"gl\", \"ka\", \"de\", \"el\", \"hi\", \"hu\", \"is\", \"id\", \"ga\", \"it\", \"ja\", \"kk\", \"km\", \"ky\", \"ko\", \"ku\", \"lv\", \"lt\", \"lb\", \"mk\", \"mg\", \"ms\", \"mt\", \"ne\", \"no\", \"ps\", \"fa\", \"pl\", \"pt\", \"qu\", \"ro\", \"ru\", \"gd\", \"sd\", \"sr\", \"sl\", \"sk\", \"so\", \"es\", \"th\", \"vi\", \"uk\", \"uz\", \"lo\", \"he\", \"sv\", \"tl\", \"tr\", \"ur\", \"zh\", \"zu\", \"th\", \"vi\", \"uk\", \"uz\", \"lo\", \"he\", \"sv\", \"tl\", \"tr\", \"ur\", \"zh\", \"zu\"\n",
    "for lang in sel_languages:\n",
    "    print(lang)\n",
    "    fasttext.util.download_model(lang, if_exists='ignore') #'en', if_exists='ignore')  # English"
   ]
  }
 ],
 "metadata": {
  "kernelspec": {
   "display_name": "gender-bias",
   "language": "python",
   "name": "gender-bias"
  },
  "language_info": {
   "codemirror_mode": {
    "name": "ipython",
    "version": 3
   },
   "file_extension": ".py",
   "mimetype": "text/x-python",
   "name": "python",
   "nbconvert_exporter": "python",
   "pygments_lexer": "ipython3",
   "version": "3.7.15"
  },
  "toc": {
   "base_numbering": 1,
   "nav_menu": {},
   "number_sections": true,
   "sideBar": true,
   "skip_h1_title": false,
   "title_cell": "Table of Contents",
   "title_sidebar": "Contents",
   "toc_cell": false,
   "toc_position": {},
   "toc_section_display": true,
   "toc_window_display": false
  }
 },
 "nbformat": 4,
 "nbformat_minor": 5
}
