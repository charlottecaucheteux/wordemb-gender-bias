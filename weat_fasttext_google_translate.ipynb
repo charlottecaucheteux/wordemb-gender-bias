{
 "cells": [
  {
   "cell_type": "code",
   "execution_count": 1,
   "id": "c816ca2f",
   "metadata": {
    "scrolled": true
   },
   "outputs": [
    {
     "data": {
      "text/plain": [
       "'/private/home/ccaucheteux/wordemb-gender-bias'"
      ]
     },
     "execution_count": 1,
     "metadata": {},
     "output_type": "execute_result"
    }
   ],
   "source": [
    "pwd"
   ]
  },
  {
   "cell_type": "code",
   "execution_count": 2,
   "id": "b56d2dfc",
   "metadata": {},
   "outputs": [],
   "source": [
    "from pathlib import Path\n",
    "import fasttext\n",
    "import numpy as np"
   ]
  },
  {
   "cell_type": "code",
   "execution_count": 3,
   "id": "38a5da95",
   "metadata": {
    "scrolled": true
   },
   "outputs": [],
   "source": [
    "path_to_fasttext_models = Path(\"../socio_wordvec/notebooks\")"
   ]
  },
  {
   "cell_type": "markdown",
   "id": "94857308",
   "metadata": {},
   "source": [
    "# Functions"
   ]
  },
  {
   "cell_type": "code",
   "execution_count": 4,
   "id": "2f78a4d7",
   "metadata": {},
   "outputs": [],
   "source": [
    "def similarity(x, y):\n",
    "    sim = np.dot(x, y)/(np.sqrt(np.dot(x, x))*np.sqrt(np.dot(y, y)))\n",
    "    return sim\n",
    "\n",
    "def score(attribute, target_set, model):\n",
    "    sim = [similarity(model.get_word_vector(attribute), model[target]) for target in target_set]\n",
    "    avg_sim = np.mean(sim)\n",
    "    return avg_sim\n",
    "\n",
    "def association(w, A, B, model):\n",
    "    return score(w, A, model) - score(w, B, model)\n",
    "\n",
    "def weat_score(X, Y, A, B, model):\n",
    "    ass_x = [association(w, A, B, model) for w in X]\n",
    "    ass_y = [association(w, A, B, model) for w in Y]\n",
    "    \n",
    "    weat = np.mean(ass_x) - np.mean(ass_y)\n",
    "    weat_es = weat / np.std(ass_x + ass_y)\n",
    "    \n",
    "    return weat, weat_es\n",
    "\n",
    "def load_model(model_name):\n",
    "    model_path = path_to_fasttext_models / model_name\n",
    "    assert Path(model_path).is_file(), f\"{model_path} does not exist\"\n",
    "    print(\"Loading model from \", model_path)\n",
    "    ft = fasttext.load_model(str(model_path))\n",
    "    return ft"
   ]
  },
  {
   "cell_type": "markdown",
   "id": "347b67ed",
   "metadata": {},
   "source": [
    "# Test with english model"
   ]
  },
  {
   "cell_type": "code",
   "execution_count": 5,
   "id": "b69f23a0",
   "metadata": {},
   "outputs": [
    {
     "name": "stdout",
     "output_type": "stream",
     "text": [
      "CPU times: user 0 ns, sys: 2 µs, total: 2 µs\n",
      "Wall time: 5.72 µs\n",
      "Loading model from  ../socio_wordvec/notebooks/cc.en.300.bin\n"
     ]
    },
    {
     "name": "stderr",
     "output_type": "stream",
     "text": [
      "Warning : `load_model` does not return WordVectorModel or SupervisedModel any more, but a `FastText` object which is very similar.\n"
     ]
    }
   ],
   "source": [
    "%time\n",
    "lang = \"en\"\n",
    "model_name = f\"cc.{lang}.300.bin\" # the model file (should be the same, ending by '.bin')\n",
    "model = load_model(model_name)"
   ]
  },
  {
   "cell_type": "code",
   "execution_count": 6,
   "id": "e85cd3eb",
   "metadata": {},
   "outputs": [
    {
     "data": {
      "text/plain": [
       "(0.059203893, 2.0)"
      ]
     },
     "execution_count": 6,
     "metadata": {},
     "output_type": "execute_result"
    }
   ],
   "source": [
    "A = [\"man\"]\n",
    "B = [\"woman\"]\n",
    "X = [\"career\"]\n",
    "Y = [\"wedding\"]\n",
    "\n",
    "weat, weat_es = weat_score(X, Y, A, B, model)\n",
    "weat, weat_es"
   ]
  },
  {
   "cell_type": "code",
   "execution_count": 7,
   "id": "e490e90a",
   "metadata": {},
   "outputs": [
    {
     "data": {
      "text/plain": [
       "(0.0009842217, 2.0)"
      ]
     },
     "execution_count": 7,
     "metadata": {},
     "output_type": "execute_result"
    }
   ],
   "source": [
    "A = [\"man\"]\n",
    "B = [\"woman\"]\n",
    "X = [\"career\"]\n",
    "Y = [\"family\"]\n",
    "\n",
    "weat, weat_es = weat_score(X, Y, A, B, model)\n",
    "weat, weat_es"
   ]
  },
  {
   "cell_type": "code",
   "execution_count": 8,
   "id": "ce62c7fe",
   "metadata": {},
   "outputs": [
    {
     "data": {
      "text/plain": [
       "(0.08110222, 2.0)"
      ]
     },
     "execution_count": 8,
     "metadata": {},
     "output_type": "execute_result"
    }
   ],
   "source": [
    "A = [\"man\"]\n",
    "B = [\"woman\"]\n",
    "X = [\"career\"]\n",
    "Y = [\"children\"]\n",
    "\n",
    "weat, weat_es = weat_score(X, Y, A, B, model)\n",
    "weat, weat_es"
   ]
  },
  {
   "cell_type": "code",
   "execution_count": 9,
   "id": "dfac6820",
   "metadata": {},
   "outputs": [
    {
     "data": {
      "text/plain": [
       "0.2529125"
      ]
     },
     "execution_count": 9,
     "metadata": {},
     "output_type": "execute_result"
    }
   ],
   "source": [
    "x = model [\"man\"]\n",
    "y = model [\"children\"]\n",
    "similarity(x,y)"
   ]
  },
  {
   "cell_type": "code",
   "execution_count": 10,
   "id": "446bfe23",
   "metadata": {},
   "outputs": [
    {
     "data": {
      "text/plain": [
       "(0.09027621, 1.7388039)"
      ]
     },
     "execution_count": 10,
     "metadata": {},
     "output_type": "execute_result"
    }
   ],
   "source": [
    "A = [\"man\", \"he\"]\n",
    "B = [\"woman\", \"she\"]\n",
    "X = [\"salary\", \"career\"]\n",
    "Y = [\"home\", \"wedding\"]\n",
    "\n",
    "weat, weat_es = weat_score(X, Y, A, B, model)\n",
    "weat, weat_es"
   ]
  },
  {
   "cell_type": "code",
   "execution_count": 11,
   "id": "6fd2df92",
   "metadata": {},
   "outputs": [
    {
     "data": {
      "text/plain": [
       "(0.042019784, 1.359282)"
      ]
     },
     "execution_count": 11,
     "metadata": {},
     "output_type": "execute_result"
    }
   ],
   "source": [
    "A = [\"male\", \"man\", \"boy\", \"brother\", \"he\", \"him\", \"his\", \"son\"]\n",
    "B = [\"female\", \"woman\", \"girl\", \"sister\", \"she\", \"her\", \"hers\", \"daughter\"]\n",
    "X = [\"executive\", \"management\", \"professional\", \"corporation\", \"salary\", \"office\", \"business\", \"career\"]\n",
    "Y = [\"home\", \"parents\", \"children\", \"family\", \"cousins\", \"marriage\", \"wedding\", \"relatives\"]\n",
    "\n",
    "weat, weat_es = weat_score(X, Y, A, B, model)\n",
    "weat, weat_es"
   ]
  },
  {
   "cell_type": "code",
   "execution_count": 12,
   "id": "0e3c59e5",
   "metadata": {},
   "outputs": [
    {
     "data": {
      "text/plain": [
       "(0.042019784, 0.39894468)"
      ]
     },
     "execution_count": 12,
     "metadata": {},
     "output_type": "execute_result"
    }
   ],
   "source": [
    "X = [\"male\", \"man\", \"boy\", \"brother\", \"he\", \"him\", \"his\", \"son\"]\n",
    "Y = [\"female\", \"woman\", \"girl\", \"sister\", \"she\", \"her\", \"hers\", \"daughter\"]\n",
    "A = [\"executive\", \"management\", \"professional\", \"corporation\", \"salary\", \"office\", \"business\", \"career\"]\n",
    "B = [\"home\", \"parents\", \"children\", \"family\", \"cousins\", \"marriage\", \"wedding\", \"relatives\"]\n",
    "\n",
    "weat, weat_es = weat_score(X, Y, A, B, model)\n",
    "weat, weat_es"
   ]
  },
  {
   "cell_type": "code",
   "execution_count": 13,
   "id": "8adc2bb4",
   "metadata": {},
   "outputs": [
    {
     "data": {
      "text/plain": [
       "(0.08375169, 1.7685586)"
      ]
     },
     "execution_count": 13,
     "metadata": {},
     "output_type": "execute_result"
    }
   ],
   "source": [
    "A = [\"man\"]\n",
    "B = [\"woman\"]\n",
    "X = [\"career\", \"management\"]\n",
    "Y = [\"wedding\", \"parents\"]\n",
    "\n",
    "weat, weat_es = weat_score(X, Y, A, B, model)\n",
    "weat, weat_es"
   ]
  },
  {
   "cell_type": "code",
   "execution_count": 14,
   "id": "b377c1db",
   "metadata": {},
   "outputs": [
    {
     "name": "stdout",
     "output_type": "stream",
     "text": [
      "CPU times: user 1 µs, sys: 3 µs, total: 4 µs\n",
      "Wall time: 9.3 µs\n",
      "Loading model from  ../socio_wordvec/notebooks/cc.en.300.bin\n"
     ]
    },
    {
     "name": "stderr",
     "output_type": "stream",
     "text": [
      "Warning : `load_model` does not return WordVectorModel or SupervisedModel any more, but a `FastText` object which is very similar.\n"
     ]
    }
   ],
   "source": [
    "%time\n",
    "lang=\"en\" # Select the language here, english. \n",
    "model_name = f\"cc.{lang}.300.bin\" # the model file (should be the same, ending by '.bin')\n",
    "model = load_model(model_name)"
   ]
  },
  {
   "cell_type": "code",
   "execution_count": 15,
   "id": "dd6c0ee8",
   "metadata": {},
   "outputs": [
    {
     "data": {
      "text/plain": [
       "(0.042019784, 1.359282)"
      ]
     },
     "execution_count": 15,
     "metadata": {},
     "output_type": "execute_result"
    }
   ],
   "source": [
    "A = [\"male\", \"man\", \"boy\", \"brother\", \"he\", \"him\", \"his\", \"son\"]\n",
    "B = [\"female\", \"woman\", \"girl\", \"sister\", \"she\", \"her\", \"hers\", \"daughter\"]\n",
    "X = [\"executive\", \"management\", \"professional\", \"corporation\", \"salary\", \"office\", \"business\", \"career\"]\n",
    "Y = [\"home\", \"parents\", \"children\", \"family\", \"cousins\", \"marriage\", \"wedding\", \"relatives\"]\n",
    "\n",
    "weat, weat_es = weat_score(X, Y, A, B, model)\n",
    "weat, weat_es"
   ]
  },
  {
   "cell_type": "code",
   "execution_count": 16,
   "id": "72ff8b08",
   "metadata": {},
   "outputs": [
    {
     "data": {
      "text/plain": [
       "(0.042019784, 0.39894468)"
      ]
     },
     "execution_count": 16,
     "metadata": {},
     "output_type": "execute_result"
    }
   ],
   "source": [
    "X = [\"male\", \"man\", \"boy\", \"brother\", \"he\", \"him\", \"his\", \"son\"]\n",
    "Y = [\"female\", \"woman\", \"girl\", \"sister\", \"she\", \"her\", \"hers\", \"daughter\"]\n",
    "A = [\"executive\", \"management\", \"professional\", \"corporation\", \"salary\", \"office\", \"business\", \"career\"]\n",
    "B = [\"home\", \"parents\", \"children\", \"family\", \"cousins\", \"marriage\", \"wedding\", \"relatives\"]\n",
    "\n",
    "weat, weat_es = weat_score(X, Y, A, B, model)\n",
    "weat, weat_es"
   ]
  },
  {
   "cell_type": "markdown",
   "id": "8f55061b",
   "metadata": {},
   "source": [
    "# Generalize to other languages"
   ]
  },
  {
   "cell_type": "markdown",
   "id": "f1875d7a",
   "metadata": {},
   "source": [
    "## Functions"
   ]
  },
  {
   "cell_type": "code",
   "execution_count": 18,
   "id": "d425a70e",
   "metadata": {},
   "outputs": [],
   "source": [
    "from deep_translator import GoogleTranslator\n",
    "def run_exp_google_tr(lang, X, Y, A, B):\n",
    "    model_name = f\"cc.{lang}.300.bin\" # the model file (should be the same, ending by '.bin')\n",
    "    model = load_model(model_name)\n",
    "\n",
    "    # Traduction\n",
    "    trs = {}\n",
    "    for name, words in zip([\"A\", \"B\", \"X\", \"Y\"], [A, B, X, Y]):\n",
    "        out = []\n",
    "        for w in words:\n",
    "            tw = GoogleTranslator(source='en', target=lang).translate(text=w)\n",
    "            tw = tw.strip()\n",
    "            out.append(tw)\n",
    "        print(name, out)\n",
    "        trs[name] = out\n",
    "\n",
    "    weat, weat_es = weat_score(trs[\"X\"], \n",
    "                               trs[\"Y\"], \n",
    "                               trs[\"A\"], \n",
    "                               trs[\"B\"], \n",
    "                               model)\n",
    "    return weat, weat_es, trs"
   ]
  },
  {
   "cell_type": "markdown",
   "id": "ca5339aa",
   "metadata": {},
   "source": [
    "## Example for italian"
   ]
  },
  {
   "cell_type": "code",
   "execution_count": 19,
   "id": "93cea5bf",
   "metadata": {},
   "outputs": [
    {
     "name": "stdout",
     "output_type": "stream",
     "text": [
      "Loading model from  ../socio_wordvec/notebooks/cc.it.300.bin\n"
     ]
    },
    {
     "name": "stderr",
     "output_type": "stream",
     "text": [
      "Warning : `load_model` does not return WordVectorModel or SupervisedModel any more, but a `FastText` object which is very similar.\n"
     ]
    },
    {
     "name": "stdout",
     "output_type": "stream",
     "text": [
      "A ['esecutivo', 'gestione', 'professionale', 'società', 'stipendio', 'ufficio', 'attività commerciale', 'carriera']\n",
      "B ['casa', 'genitori', 'bambini', 'famiglia', 'cugini', 'matrimonio', 'nozze', 'parenti']\n",
      "X ['maschio', 'uomo', 'ragazzo', 'fratello', 'lui', 'lui', 'la sua', 'figlio']\n",
      "Y ['femmina', 'donna', 'ragazza', 'sorella', 'lei', 'sua', 'la sua', 'figlia']\n",
      "weat 0.0123478845\n",
      "weat_es 0.12605372\n",
      "translations {'A': ['esecutivo', 'gestione', 'professionale', 'società', 'stipendio', 'ufficio', 'attività commerciale', 'carriera'], 'B': ['casa', 'genitori', 'bambini', 'famiglia', 'cugini', 'matrimonio', 'nozze', 'parenti'], 'X': ['maschio', 'uomo', 'ragazzo', 'fratello', 'lui', 'lui', 'la sua', 'figlio'], 'Y': ['femmina', 'donna', 'ragazza', 'sorella', 'lei', 'sua', 'la sua', 'figlia']}\n"
     ]
    }
   ],
   "source": [
    "X = [\"male\", \"man\", \"boy\", \"brother\", \"he\", \"him\", \"his\", \"son\"]\n",
    "Y = [\"female\", \"woman\", \"girl\", \"sister\", \"she\", \"her\", \"hers\", \"daughter\"]\n",
    "A = [\"executive\", \"management\", \"professional\", \"corporation\", \"salary\", \"office\", \"business\", \"career\"]\n",
    "B = [\"home\", \"parents\", \"children\", \"family\", \"cousins\", \"marriage\", \"wedding\", \"relatives\"]\n",
    "\n",
    "weat, weat_es, translations = run_exp_google_tr(\"it\", X, Y, A, B)\n",
    "\n",
    "print(\"weat\", weat)\n",
    "print(\"weat_es\", weat_es)\n",
    "print(\"translations\", translations)"
   ]
  },
  {
   "cell_type": "markdown",
   "id": "126b33ef",
   "metadata": {},
   "source": [
    "## All languages"
   ]
  },
  {
   "cell_type": "markdown",
   "id": "d3ad8a93",
   "metadata": {},
   "source": [
    "Select languages"
   ]
  },
  {
   "cell_type": "code",
   "execution_count": 20,
   "id": "d64db2f5",
   "metadata": {},
   "outputs": [],
   "source": [
    "all_languages = [\"af\", \"sq\", \"ar\", \"hy\", \"az\", \"be\", \"bn\", \"bs\", \"bg\", \"my\", \"hr\", \"cs\", \"da\", \"nl\", \"en\", \"et\", \"fi\", \"fr\", \"gl\", \"ka\", \"de\", \"el\", \"hi\", \"hu\", \"is\", \"id\", \"ga\", \"it\", \"ja\", \"kk\", \"km\", \"ky\", \"ko\", \"ku\", \"lv\", \"lt\", \"lb\", \"mk\", \"mg\", \"ms\", \"mt\", \"ne\", \"no\", \"ps\", \"fa\", \"pl\", \"pt\", \"qu\", \"ro\", \"ru\", \"gd\", \"sd\", \"sr\", \"sl\", \"sk\", \"so\", \"es\", \"th\", \"vi\", \"uk\", \"uz\", \"lo\", \"he\", \"sv\", \"tl\", \"tr\", \"ur\", \"zh\", \"zu\", \"th\", \"vi\", \"uk\", \"uz\", \"he\", \"sv\", \"tl\", \"tr\", \"ur\", \"zh\", \"zu\"]\n"
   ]
  },
  {
   "cell_type": "markdown",
   "id": "15c33e41",
   "metadata": {},
   "source": [
    "Check languages that are compatible with translations"
   ]
  },
  {
   "cell_type": "code",
   "execution_count": 24,
   "id": "8778937c",
   "metadata": {},
   "outputs": [
    {
     "name": "stdout",
     "output_type": "stream",
     "text": [
      "Missing translations for lang ['he', 'zh', 'he', 'zh']\n"
     ]
    }
   ],
   "source": [
    "tr = GoogleTranslator()\n",
    "all_google_languages = tr.get_supported_languages(as_dict=True)\n",
    "all_google_languages = all_google_languages.values()\n",
    "missing_google_languages = [x for x in all_languages if x not in all_google_languages]\n",
    "print(f\"Missing translations for lang {missing_google_languages}\")"
   ]
  },
  {
   "cell_type": "markdown",
   "id": "a67c4767",
   "metadata": {},
   "source": [
    "Check that models exists"
   ]
  },
  {
   "cell_type": "code",
   "execution_count": 25,
   "id": "996d62ef",
   "metadata": {},
   "outputs": [
    {
     "name": "stdout",
     "output_type": "stream",
     "text": [
      "Missing models for lang ['lo', 'tl', 'tr', 'ur', 'zu', 'tl', 'tr', 'ur', 'zu']\n"
     ]
    }
   ],
   "source": [
    "all_models = path_to_fasttext_models.glob(\"cc.*.bin\")\n",
    "all_models = [p.stem.split(\".\")[1] for p in all_models]\n",
    "missing_models = [l for l in all_languages if l not in all_models]\n",
    "print(f\"Missing models for lang {missing_models}\")"
   ]
  },
  {
   "cell_type": "markdown",
   "id": "1f83113c",
   "metadata": {},
   "source": [
    "Select intersection"
   ]
  },
  {
   "cell_type": "code",
   "execution_count": 28,
   "id": "e21c3935",
   "metadata": {
    "scrolled": true
   },
   "outputs": [
    {
     "name": "stdout",
     "output_type": "stream",
     "text": [
      "67 languages out of 80\n"
     ]
    }
   ],
   "source": [
    "sel_languages = [lang for lang in all_languages if (lang in all_models) and lang in all_google_languages]\n",
    "print(f\"{len(sel_languages)} languages out of {len(all_languages)}\")"
   ]
  },
  {
   "cell_type": "markdown",
   "id": "2f77f778",
   "metadata": {},
   "source": [
    "## Run on cluster"
   ]
  },
  {
   "cell_type": "code",
   "execution_count": 31,
   "id": "28a9ff60",
   "metadata": {},
   "outputs": [],
   "source": [
    "def submit_job(lang, reduced=False, google=True):\n",
    "    if reduced:\n",
    "        A = [\"man\", \"he\"]\n",
    "        B = [\"woman\", \"she\"]\n",
    "        X = [\"salary\", \"career\"]\n",
    "        Y = [\"home\", \"wedding\"]\n",
    "    else:\n",
    "        X = [\"male\", \"man\", \"boy\", \"brother\", \"he\", \"him\", \"his\", \"son\"]\n",
    "        Y = [\"female\", \"woman\", \"girl\", \"sister\", \"she\", \"her\", \"hers\", \"daughter\"]\n",
    "        A = [\"executive\", \"management\", \"professional\", \"corporation\", \"salary\", \"office\", \"business\", \"career\"]\n",
    "        B = [\"home\", \"parents\", \"children\", \"family\", \"cousins\", \"marriage\", \"wedding\", \"relatives\"]\n",
    "    if google:\n",
    "        weat, weat_es, translations = run_exp_google(lang, X, Y, A, B)\n",
    "    else:\n",
    "        weat, weat_es, translations = run_exp(lang, X, Y, A, B)\n",
    "    return weat, weat_es, translations"
   ]
  },
  {
   "cell_type": "code",
   "execution_count": 32,
   "id": "69810dad",
   "metadata": {},
   "outputs": [
    {
     "name": "stdout",
     "output_type": "stream",
     "text": [
      "Loading model from  ../socio_wordvec/notebooks/cc.it.300.bin\n"
     ]
    },
    {
     "name": "stderr",
     "output_type": "stream",
     "text": [
      "Warning : `load_model` does not return WordVectorModel or SupervisedModel any more, but a `FastText` object which is very similar.\n"
     ]
    },
    {
     "name": "stdout",
     "output_type": "stream",
     "text": [
      "A ['esecutivo', 'gestione', 'professionale', 'società', 'stipendio', 'ufficio', 'attività commerciale', 'carriera']\n",
      "B ['casa', 'genitori', 'bambini', 'famiglia', 'cugini', 'matrimonio', 'nozze', 'parenti']\n",
      "X ['maschio', 'uomo', 'ragazzo', 'fratello', 'lui', 'lui', 'la sua', 'figlio']\n",
      "Y ['femmina', 'donna', 'ragazza', 'sorella', 'lei', 'sua', 'la sua', 'figlia']\n"
     ]
    }
   ],
   "source": [
    "weat, weat_es, translations = submit_job(\"it\")"
   ]
  },
  {
   "cell_type": "code",
   "execution_count": 127,
   "id": "2ecfb9fd",
   "metadata": {},
   "outputs": [],
   "source": [
    "import submitit\n",
    "from submitit import AutoExecutor\n",
    "executor = AutoExecutor(\n",
    "            f\"submitit_jobs/submitit_jobs/wordemb_bias\")\n",
    "executor.update_parameters(\n",
    "    slurm_partition=\"devlab\",\n",
    "    slurm_array_parallelism=200,\n",
    "    timeout_min=60,\n",
    "    name=\"wordemb_bias\",\n",
    "    mem_gb=40,\n",
    "    cpus_per_task=2,\n",
    "    gpus_per_node=0,\n",
    ")\n",
    "\n",
    "jobs_all_words = executor.map_array(submit_job, all_languages)"
   ]
  },
  {
   "cell_type": "code",
   "execution_count": 126,
   "id": "43fae57e",
   "metadata": {},
   "outputs": [],
   "source": [
    "jobs_reduced = executor.map_array(submit_job, all_languages, [True]*len(all_languages))"
   ]
  },
  {
   "cell_type": "markdown",
   "id": "43c8af33",
   "metadata": {},
   "source": [
    "## Load results"
   ]
  },
  {
   "cell_type": "code",
   "execution_count": 137,
   "id": "c30f1c04",
   "metadata": {},
   "outputs": [],
   "source": [
    "jobs = jobs_all_words\n",
    "is_completed = np.array([j.state==\"COMPLETED\" for j in jobs])\n",
    "langs = np.array(all_languages)[is_completed]\n",
    "results = [j.results()[0] for (i, j) in enumerate(jobs) if is_completed[i]]"
   ]
  },
  {
   "cell_type": "code",
   "execution_count": 138,
   "id": "027b09bf",
   "metadata": {
    "scrolled": true
   },
   "outputs": [],
   "source": [
    "import pandas as pd\n",
    "weat = [r[0] for r in results]\n",
    "weat_std = [r[1] for r in results]\n",
    "trads = {k: [r[-1][k] for r in results] for k in [\"A\", \"B\", \"X\", \"Y\"]}"
   ]
  },
  {
   "cell_type": "code",
   "execution_count": 139,
   "id": "19bcfea9",
   "metadata": {
    "scrolled": true
   },
   "outputs": [],
   "source": [
    "df = pd.DataFrame({\"lang\": langs, \"weat\": weat, \"weat_std\": weat_std, **trads})"
   ]
  },
  {
   "cell_type": "markdown",
   "id": "0f920f99",
   "metadata": {},
   "source": [
    "## Download missing models"
   ]
  },
  {
   "cell_type": "code",
   "execution_count": 152,
   "id": "0a557a5b",
   "metadata": {
    "scrolled": true
   },
   "outputs": [
    {
     "name": "stdout",
     "output_type": "stream",
     "text": [
      "af\n",
      "sq\n",
      "ar\n",
      "hy\n",
      "az\n",
      "be\n",
      "bn\n",
      "bs\n",
      "bg\n",
      "my\n",
      "hr\n",
      "cs\n",
      "da\n",
      "nl\n",
      "en\n",
      "et\n",
      "fi\n",
      "fr\n",
      "gl\n",
      "ka\n",
      "de\n",
      "el\n",
      "hi\n",
      "hu\n",
      "is\n",
      "id\n",
      "ga\n",
      "it\n",
      "ja\n",
      "kk\n",
      "km\n",
      "ky\n",
      "ko\n",
      "ku\n",
      "lv\n",
      "lt\n",
      "lb\n",
      "mk\n",
      "mg\n",
      "ms\n",
      "mt\n",
      "ne\n",
      "no\n",
      "ps\n",
      "fa\n",
      "pl\n",
      "pt\n",
      "qu\n",
      "ro\n",
      "ru\n",
      "gd\n",
      "sd\n",
      "sr\n",
      "sl\n",
      "sk\n",
      "so\n",
      "es\n",
      "th\n",
      "Downloading https://dl.fbaipublicfiles.com/fasttext/vectors-crawl/cc.th.300.bin.gz\n",
      " (0.54%) [>                                                  ]>                                                  ]>                                                  ]>                                                  ]>                                                  ]>                                                  ]>                                                  ]>                                                  ]>                                                  ]>                                                  ]\r"
     ]
    },
    {
     "name": "stderr",
     "output_type": "stream",
     "text": [
      "IOPub message rate exceeded.\n",
      "The notebook server will temporarily stop sending output\n",
      "to the client in order to avoid crashing it.\n",
      "To change this limit, set the config variable\n",
      "`--NotebookApp.iopub_msg_rate_limit`.\n",
      "\n",
      "Current values:\n",
      "NotebookApp.iopub_msg_rate_limit=1000.0 (msgs/sec)\n",
      "NotebookApp.rate_limit_window=3.0 (secs)\n",
      "\n"
     ]
    },
    {
     "name": "stdout",
     "output_type": "stream",
     "text": [
      " (1.54%) [>                                                  ]>                                                  ]>                                                  ]>                                                  ]>                                                  ]>                                                  ]>                                                  ]>                                                  ]>                                                  ]>                                                  ]>                                                  ]\r"
     ]
    },
    {
     "name": "stderr",
     "output_type": "stream",
     "text": [
      "IOPub message rate exceeded.\n",
      "The notebook server will temporarily stop sending output\n",
      "to the client in order to avoid crashing it.\n",
      "To change this limit, set the config variable\n",
      "`--NotebookApp.iopub_msg_rate_limit`.\n",
      "\n",
      "Current values:\n",
      "NotebookApp.iopub_msg_rate_limit=1000.0 (msgs/sec)\n",
      "NotebookApp.rate_limit_window=3.0 (secs)\n",
      "\n"
     ]
    },
    {
     "name": "stdout",
     "output_type": "stream",
     "text": [
      " (2.57%) [=>                                                 ]=>                                                 ]=>                                                 ]=>                                                 ]=>                                                 ]=>                                                 ]=>                                                 ]=>                                                 ]=>                                                 ]=>                                                 ]=>                                                 ]=>                                                 ]=>                                                 ]\r"
     ]
    },
    {
     "name": "stderr",
     "output_type": "stream",
     "text": [
      "IOPub message rate exceeded.\n",
      "The notebook server will temporarily stop sending output\n",
      "to the client in order to avoid crashing it.\n",
      "To change this limit, set the config variable\n",
      "`--NotebookApp.iopub_msg_rate_limit`.\n",
      "\n",
      "Current values:\n",
      "NotebookApp.iopub_msg_rate_limit=1000.0 (msgs/sec)\n",
      "NotebookApp.rate_limit_window=3.0 (secs)\n",
      "\n"
     ]
    },
    {
     "name": "stdout",
     "output_type": "stream",
     "text": [
      " (3.59%) [=>                                                 ]=>                                                 ]=>                                                 ]=>                                                 ]=>                                                 ]=>                                                 ]=>                                                 ]=>                                                 ]=>                                                 ]=>                                                 ]\r"
     ]
    },
    {
     "name": "stderr",
     "output_type": "stream",
     "text": [
      "IOPub message rate exceeded.\n",
      "The notebook server will temporarily stop sending output\n",
      "to the client in order to avoid crashing it.\n",
      "To change this limit, set the config variable\n",
      "`--NotebookApp.iopub_msg_rate_limit`.\n",
      "\n",
      "Current values:\n",
      "NotebookApp.iopub_msg_rate_limit=1000.0 (msgs/sec)\n",
      "NotebookApp.rate_limit_window=3.0 (secs)\n",
      "\n"
     ]
    },
    {
     "name": "stdout",
     "output_type": "stream",
     "text": [
      " (4.63%) [==>                                                ]==>                                                ]==>                                                ]==>                                                ]==>                                                ]==>                                                ]==>                                                ]==>                                                ]==>                                                ]==>                                                ]==>                                                ]==>                                                ]==>                                                ]==>                                                ]\r"
     ]
    },
    {
     "name": "stderr",
     "output_type": "stream",
     "text": [
      "IOPub message rate exceeded.\n",
      "The notebook server will temporarily stop sending output\n",
      "to the client in order to avoid crashing it.\n",
      "To change this limit, set the config variable\n",
      "`--NotebookApp.iopub_msg_rate_limit`.\n",
      "\n",
      "Current values:\n",
      "NotebookApp.iopub_msg_rate_limit=1000.0 (msgs/sec)\n",
      "NotebookApp.rate_limit_window=3.0 (secs)\n",
      "\n"
     ]
    },
    {
     "name": "stdout",
     "output_type": "stream",
     "text": [
      " (5.67%) [==>                                                ]==>                                                ]==>                                                ]==>                                                ]==>                                                ]==>                                                ]==>                                                ]==>                                                ]==>                                                ]==>                                                ]==>                                                ]==>                                                ]==>                                                ]==>                                                ]\r"
     ]
    },
    {
     "name": "stderr",
     "output_type": "stream",
     "text": [
      "IOPub message rate exceeded.\n",
      "The notebook server will temporarily stop sending output\n",
      "to the client in order to avoid crashing it.\n",
      "To change this limit, set the config variable\n",
      "`--NotebookApp.iopub_msg_rate_limit`.\n",
      "\n",
      "Current values:\n",
      "NotebookApp.iopub_msg_rate_limit=1000.0 (msgs/sec)\n",
      "NotebookApp.rate_limit_window=3.0 (secs)\n",
      "\n"
     ]
    },
    {
     "name": "stdout",
     "output_type": "stream",
     "text": [
      " (7.16%) [===>                                               ]===>                                               ]===>                                               ]===>                                               ]===>                                               ]===>                                               ]===>                                               ]===>                                               ]\r"
     ]
    },
    {
     "name": "stderr",
     "output_type": "stream",
     "text": [
      "IOPub message rate exceeded.\n",
      "The notebook server will temporarily stop sending output\n",
      "to the client in order to avoid crashing it.\n",
      "To change this limit, set the config variable\n",
      "`--NotebookApp.iopub_msg_rate_limit`.\n",
      "\n",
      "Current values:\n",
      "NotebookApp.iopub_msg_rate_limit=1000.0 (msgs/sec)\n",
      "NotebookApp.rate_limit_window=3.0 (secs)\n",
      "\n"
     ]
    },
    {
     "name": "stdout",
     "output_type": "stream",
     "text": [
      " (8.69%) [====>                                              ]===>                                               ]===>                                               ]===>                                               ]===>                                               ]====>                                              ]====>                                              ]\r"
     ]
    },
    {
     "name": "stderr",
     "output_type": "stream",
     "text": [
      "IOPub message rate exceeded.\n",
      "The notebook server will temporarily stop sending output\n",
      "to the client in order to avoid crashing it.\n",
      "To change this limit, set the config variable\n",
      "`--NotebookApp.iopub_msg_rate_limit`.\n",
      "\n",
      "Current values:\n",
      "NotebookApp.iopub_msg_rate_limit=1000.0 (msgs/sec)\n",
      "NotebookApp.rate_limit_window=3.0 (secs)\n",
      "\n"
     ]
    },
    {
     "name": "stdout",
     "output_type": "stream",
     "text": [
      " (10.28%) [=====>                                             ]===>                                              ]====>                                              ]====>                                              ]====>                                              ]====>                                              ]=====>                                             ]\r"
     ]
    },
    {
     "name": "stderr",
     "output_type": "stream",
     "text": [
      "IOPub message rate exceeded.\n",
      "The notebook server will temporarily stop sending output\n",
      "to the client in order to avoid crashing it.\n",
      "To change this limit, set the config variable\n",
      "`--NotebookApp.iopub_msg_rate_limit`.\n",
      "\n",
      "Current values:\n",
      "NotebookApp.iopub_msg_rate_limit=1000.0 (msgs/sec)\n",
      "NotebookApp.rate_limit_window=3.0 (secs)\n",
      "\n"
     ]
    },
    {
     "name": "stdout",
     "output_type": "stream",
     "text": [
      " (12.05%) [======>                                            ]=====>                                             ]=====>                                             ]=====>                                             ]=====>                                             ]=====>                                             ]=====>                                             ]=====>                                             ]=====>                                             ]=====>                                             ]=====>                                             ]\r"
     ]
    },
    {
     "name": "stderr",
     "output_type": "stream",
     "text": [
      "IOPub message rate exceeded.\n",
      "The notebook server will temporarily stop sending output\n",
      "to the client in order to avoid crashing it.\n",
      "To change this limit, set the config variable\n",
      "`--NotebookApp.iopub_msg_rate_limit`.\n",
      "\n",
      "Current values:\n",
      "NotebookApp.iopub_msg_rate_limit=1000.0 (msgs/sec)\n",
      "NotebookApp.rate_limit_window=3.0 (secs)\n",
      "\n"
     ]
    },
    {
     "name": "stdout",
     "output_type": "stream",
     "text": [
      " (13.09%) [======>                                            ]======>                                            ]======>                                            ]======>                                            ]======>                                            ]\r"
     ]
    },
    {
     "name": "stderr",
     "output_type": "stream",
     "text": [
      "IOPub message rate exceeded.\n",
      "The notebook server will temporarily stop sending output\n",
      "to the client in order to avoid crashing it.\n",
      "To change this limit, set the config variable\n",
      "`--NotebookApp.iopub_msg_rate_limit`.\n",
      "\n",
      "Current values:\n",
      "NotebookApp.iopub_msg_rate_limit=1000.0 (msgs/sec)\n",
      "NotebookApp.rate_limit_window=3.0 (secs)\n",
      "\n"
     ]
    },
    {
     "name": "stdout",
     "output_type": "stream",
     "text": [
      " (15.33%) [=======>                                           ]=======>                                           ]=======>                                           ]=======>                                           ]=======>                                           ]=======>                                           ]=======>                                           ]=======>                                           ]=======>                                           ]=======>                                           ]\r"
     ]
    },
    {
     "name": "stderr",
     "output_type": "stream",
     "text": [
      "IOPub message rate exceeded.\n",
      "The notebook server will temporarily stop sending output\n",
      "to the client in order to avoid crashing it.\n",
      "To change this limit, set the config variable\n",
      "`--NotebookApp.iopub_msg_rate_limit`.\n",
      "\n",
      "Current values:\n",
      "NotebookApp.iopub_msg_rate_limit=1000.0 (msgs/sec)\n",
      "NotebookApp.rate_limit_window=3.0 (secs)\n",
      "\n"
     ]
    },
    {
     "name": "stdout",
     "output_type": "stream",
     "text": [
      " (17.13%) [========>                                          ]========>                                          ]========>                                          ]========>                                          ]========>                                          ]========>                                          ]========>                                          ]========>                                          ]========>                                          ]========>                                          ]========>                                          ]========>                                          ]========>                                          ]========>                                          ]========>                                          ]========>                                          ]========>                                          ]========>                                          ]========>                                          ]========>                                          ]\r"
     ]
    },
    {
     "name": "stderr",
     "output_type": "stream",
     "text": [
      "IOPub message rate exceeded.\n",
      "The notebook server will temporarily stop sending output\n",
      "to the client in order to avoid crashing it.\n",
      "To change this limit, set the config variable\n",
      "`--NotebookApp.iopub_msg_rate_limit`.\n",
      "\n",
      "Current values:\n",
      "NotebookApp.iopub_msg_rate_limit=1000.0 (msgs/sec)\n",
      "NotebookApp.rate_limit_window=3.0 (secs)\n",
      "\n"
     ]
    },
    {
     "name": "stdout",
     "output_type": "stream",
     "text": [
      " (18.63%) [=========>                                         ]========>                                          ]========>                                          ]========>                                          ]========>                                          ]========>                                          ]========>                                          ]========>                                          ]========>                                          ]========>                                          ]========>                                          ]========>                                          ]========>                                          ]=========>                                         ]=========>                                         ]=========>                                         ]=========>                                         ]\r"
     ]
    },
    {
     "name": "stderr",
     "output_type": "stream",
     "text": [
      "IOPub message rate exceeded.\n",
      "The notebook server will temporarily stop sending output\n",
      "to the client in order to avoid crashing it.\n",
      "To change this limit, set the config variable\n",
      "`--NotebookApp.iopub_msg_rate_limit`.\n",
      "\n",
      "Current values:\n",
      "NotebookApp.iopub_msg_rate_limit=1000.0 (msgs/sec)\n",
      "NotebookApp.rate_limit_window=3.0 (secs)\n",
      "\n"
     ]
    },
    {
     "name": "stdout",
     "output_type": "stream",
     "text": [
      " (19.93%) [=========>                                         ]=========>                                         ]=========>                                         ]=========>                                         ]=========>                                         ]=========>                                         ]=========>                                         ]=========>                                         ]=========>                                         ]=========>                                         ]=========>                                         ]=========>                                         ]=========>                                         ]=========>                                         ]=========>                                         ]\r"
     ]
    },
    {
     "name": "stderr",
     "output_type": "stream",
     "text": [
      "IOPub message rate exceeded.\n",
      "The notebook server will temporarily stop sending output\n",
      "to the client in order to avoid crashing it.\n",
      "To change this limit, set the config variable\n",
      "`--NotebookApp.iopub_msg_rate_limit`.\n",
      "\n",
      "Current values:\n",
      "NotebookApp.iopub_msg_rate_limit=1000.0 (msgs/sec)\n",
      "NotebookApp.rate_limit_window=3.0 (secs)\n",
      "\n"
     ]
    },
    {
     "name": "stdout",
     "output_type": "stream",
     "text": [
      " (21.57%) [==========>                                        ]==========>                                        ]==========>                                        ]==========>                                        ]==========>                                        ]==========>                                        ]==========>                                        ]==========>                                        ]==========>                                        ]==========>                                        ]\r"
     ]
    },
    {
     "name": "stderr",
     "output_type": "stream",
     "text": [
      "IOPub message rate exceeded.\n",
      "The notebook server will temporarily stop sending output\n",
      "to the client in order to avoid crashing it.\n",
      "To change this limit, set the config variable\n",
      "`--NotebookApp.iopub_msg_rate_limit`.\n",
      "\n",
      "Current values:\n",
      "NotebookApp.iopub_msg_rate_limit=1000.0 (msgs/sec)\n",
      "NotebookApp.rate_limit_window=3.0 (secs)\n",
      "\n"
     ]
    },
    {
     "name": "stdout",
     "output_type": "stream",
     "text": [
      " (23.77%) [===========>                                       ]===========>                                       ]===========>                                       ]===========>                                       ]===========>                                       ]===========>                                       ]===========>                                       ]===========>                                       ]===========>                                       ]===========>                                       ]===========>                                       ]===========>                                       ]\r"
     ]
    },
    {
     "name": "stderr",
     "output_type": "stream",
     "text": [
      "IOPub message rate exceeded.\n",
      "The notebook server will temporarily stop sending output\n",
      "to the client in order to avoid crashing it.\n",
      "To change this limit, set the config variable\n",
      "`--NotebookApp.iopub_msg_rate_limit`.\n",
      "\n",
      "Current values:\n",
      "NotebookApp.iopub_msg_rate_limit=1000.0 (msgs/sec)\n",
      "NotebookApp.rate_limit_window=3.0 (secs)\n",
      "\n"
     ]
    },
    {
     "name": "stdout",
     "output_type": "stream",
     "text": [
      " (25.68%) [============>                                      ]============>                                      ]============>                                      ]============>                                      ]============>                                      ]============>                                      ]============>                                      ]============>                                      ]============>                                      ]============>                                      ]============>                                      ]============>                                      ]============>                                      ]============>                                      ]============>                                      ]============>                                      ]============>                                      ]============>                                      ]\r"
     ]
    },
    {
     "name": "stderr",
     "output_type": "stream",
     "text": [
      "IOPub message rate exceeded.\n",
      "The notebook server will temporarily stop sending output\n",
      "to the client in order to avoid crashing it.\n",
      "To change this limit, set the config variable\n",
      "`--NotebookApp.iopub_msg_rate_limit`.\n",
      "\n",
      "Current values:\n",
      "NotebookApp.iopub_msg_rate_limit=1000.0 (msgs/sec)\n",
      "NotebookApp.rate_limit_window=3.0 (secs)\n",
      "\n"
     ]
    },
    {
     "name": "stdout",
     "output_type": "stream",
     "text": [
      " (27.37%) [=============>                                     ]=============>                                     ]=============>                                     ]=============>                                     ]=============>                                     ]=============>                                     ]=============>                                     ]=============>                                     ]=============>                                     ]=============>                                     ]=============>                                     ]\r"
     ]
    },
    {
     "name": "stderr",
     "output_type": "stream",
     "text": [
      "IOPub message rate exceeded.\n",
      "The notebook server will temporarily stop sending output\n",
      "to the client in order to avoid crashing it.\n",
      "To change this limit, set the config variable\n",
      "`--NotebookApp.iopub_msg_rate_limit`.\n",
      "\n",
      "Current values:\n",
      "NotebookApp.iopub_msg_rate_limit=1000.0 (msgs/sec)\n",
      "NotebookApp.rate_limit_window=3.0 (secs)\n",
      "\n"
     ]
    },
    {
     "name": "stdout",
     "output_type": "stream",
     "text": [
      " (28.51%) [==============>                                    ]==============>                                    ]==============>                                    ]==============>                                    ]==============>                                    ]==============>                                    ]==============>                                    ]==============>                                    ]==============>                                    ]==============>                                    ]==============>                                    ]==============>                                    ]==============>                                    ]==============>                                    ]==============>                                    ]==============>                                    ]\r"
     ]
    },
    {
     "name": "stderr",
     "output_type": "stream",
     "text": [
      "IOPub message rate exceeded.\n",
      "The notebook server will temporarily stop sending output\n",
      "to the client in order to avoid crashing it.\n",
      "To change this limit, set the config variable\n",
      "`--NotebookApp.iopub_msg_rate_limit`.\n",
      "\n",
      "Current values:\n",
      "NotebookApp.iopub_msg_rate_limit=1000.0 (msgs/sec)\n",
      "NotebookApp.rate_limit_window=3.0 (secs)\n",
      "\n"
     ]
    },
    {
     "name": "stdout",
     "output_type": "stream",
     "text": [
      " (30.50%) [===============>                                   ]==============>                                    ]==============>                                    ]==============>                                    ]==============>                                    ]==============>                                    ]===============>                                   ]===============>                                   ]===============>                                   ]===============>                                   ]===============>                                   ]===============>                                   ]\r"
     ]
    },
    {
     "name": "stderr",
     "output_type": "stream",
     "text": [
      "IOPub message rate exceeded.\n",
      "The notebook server will temporarily stop sending output\n",
      "to the client in order to avoid crashing it.\n",
      "To change this limit, set the config variable\n",
      "`--NotebookApp.iopub_msg_rate_limit`.\n",
      "\n",
      "Current values:\n",
      "NotebookApp.iopub_msg_rate_limit=1000.0 (msgs/sec)\n",
      "NotebookApp.rate_limit_window=3.0 (secs)\n",
      "\n"
     ]
    },
    {
     "name": "stdout",
     "output_type": "stream",
     "text": [
      " (32.28%) [================>                                  ]===============>                                   ]===============>                                   ]===============>                                   ]===============>                                   ]===============>                                   ]================>                                  ]================>                                  ]================>                                  ]================>                                  ]================>                                  ]================>                                  ]"
     ]
    },
    {
     "name": "stderr",
     "output_type": "stream",
     "text": [
      "IOPub message rate exceeded.\n",
      "The notebook server will temporarily stop sending output\n",
      "to the client in order to avoid crashing it.\n",
      "To change this limit, set the config variable\n",
      "`--NotebookApp.iopub_msg_rate_limit`.\n",
      "\n",
      "Current values:\n",
      "NotebookApp.iopub_msg_rate_limit=1000.0 (msgs/sec)\n",
      "NotebookApp.rate_limit_window=3.0 (secs)\n",
      "\n"
     ]
    },
    {
     "name": "stdout",
     "output_type": "stream",
     "text": [
      " (34.19%) [=================>                                 ]================>                                  ]================>                                  ]================>                                  ]================>                                  ]================>                                  ]================>                                  ]================>                                  ]=================>                                 ]=================>                                 ]=================>                                 ]\r"
     ]
    },
    {
     "name": "stderr",
     "output_type": "stream",
     "text": [
      "IOPub message rate exceeded.\n",
      "The notebook server will temporarily stop sending output\n",
      "to the client in order to avoid crashing it.\n",
      "To change this limit, set the config variable\n",
      "`--NotebookApp.iopub_msg_rate_limit`.\n",
      "\n",
      "Current values:\n",
      "NotebookApp.iopub_msg_rate_limit=1000.0 (msgs/sec)\n",
      "NotebookApp.rate_limit_window=3.0 (secs)\n",
      "\n"
     ]
    },
    {
     "name": "stdout",
     "output_type": "stream",
     "text": [
      " (35.81%) [=================>                                 ]=================>                                 ]=================>                                 ]=================>                                 ]=================>                                 ]=================>                                 ]=================>                                 ]=================>                                 ]=================>                                 ]=================>                                 ]\r"
     ]
    },
    {
     "name": "stderr",
     "output_type": "stream",
     "text": [
      "IOPub message rate exceeded.\n",
      "The notebook server will temporarily stop sending output\n",
      "to the client in order to avoid crashing it.\n",
      "To change this limit, set the config variable\n",
      "`--NotebookApp.iopub_msg_rate_limit`.\n",
      "\n",
      "Current values:\n",
      "NotebookApp.iopub_msg_rate_limit=1000.0 (msgs/sec)\n",
      "NotebookApp.rate_limit_window=3.0 (secs)\n",
      "\n"
     ]
    },
    {
     "name": "stdout",
     "output_type": "stream",
     "text": [
      " (37.42%) [==================>                                ]==================>                                ]==================>                                ]==================>                                ]==================>                                ]==================>                                ]==================>                                ]\r"
     ]
    },
    {
     "name": "stderr",
     "output_type": "stream",
     "text": [
      "IOPub message rate exceeded.\n",
      "The notebook server will temporarily stop sending output\n",
      "to the client in order to avoid crashing it.\n",
      "To change this limit, set the config variable\n",
      "`--NotebookApp.iopub_msg_rate_limit`.\n",
      "\n",
      "Current values:\n",
      "NotebookApp.iopub_msg_rate_limit=1000.0 (msgs/sec)\n",
      "NotebookApp.rate_limit_window=3.0 (secs)\n",
      "\n"
     ]
    },
    {
     "name": "stdout",
     "output_type": "stream",
     "text": [
      " (39.22%) [===================>                               ]==================>                                ]==================>                                ]===================>                               ]===================>                               ]===================>                               ]===================>                               ]===================>                               ]===================>                               ]===================>                               ]===================>                               ]===================>                               ]===================>                               ]\r"
     ]
    },
    {
     "name": "stderr",
     "output_type": "stream",
     "text": [
      "IOPub message rate exceeded.\n",
      "The notebook server will temporarily stop sending output\n",
      "to the client in order to avoid crashing it.\n",
      "To change this limit, set the config variable\n",
      "`--NotebookApp.iopub_msg_rate_limit`.\n",
      "\n",
      "Current values:\n",
      "NotebookApp.iopub_msg_rate_limit=1000.0 (msgs/sec)\n",
      "NotebookApp.rate_limit_window=3.0 (secs)\n",
      "\n"
     ]
    },
    {
     "name": "stdout",
     "output_type": "stream",
     "text": [
      " (40.95%) [====================>                              ]====================>                              ]====================>                              ]====================>                              ]====================>                              ]====================>                              ]====================>                              ]====================>                              ]====================>                              ]====================>                              ]====================>                              ]====================>                              ]\r"
     ]
    },
    {
     "name": "stderr",
     "output_type": "stream",
     "text": [
      "IOPub message rate exceeded.\n",
      "The notebook server will temporarily stop sending output\n",
      "to the client in order to avoid crashing it.\n",
      "To change this limit, set the config variable\n",
      "`--NotebookApp.iopub_msg_rate_limit`.\n",
      "\n",
      "Current values:\n",
      "NotebookApp.iopub_msg_rate_limit=1000.0 (msgs/sec)\n",
      "NotebookApp.rate_limit_window=3.0 (secs)\n",
      "\n"
     ]
    },
    {
     "name": "stdout",
     "output_type": "stream",
     "text": [
      " (42.73%) [=====================>                             ]=====================>                             ]=====================>                             ]=====================>                             ]=====================>                             ]=====================>                             ]=====================>                             ]=====================>                             ]\r"
     ]
    },
    {
     "name": "stderr",
     "output_type": "stream",
     "text": [
      "IOPub message rate exceeded.\n",
      "The notebook server will temporarily stop sending output\n",
      "to the client in order to avoid crashing it.\n",
      "To change this limit, set the config variable\n",
      "`--NotebookApp.iopub_msg_rate_limit`.\n",
      "\n",
      "Current values:\n",
      "NotebookApp.iopub_msg_rate_limit=1000.0 (msgs/sec)\n",
      "NotebookApp.rate_limit_window=3.0 (secs)\n",
      "\n"
     ]
    },
    {
     "name": "stdout",
     "output_type": "stream",
     "text": [
      " (44.38%) [======================>                            ]=====================>                             ]=====================>                             ]=====================>                             ]======================>                            ]======================>                            ]======================>                            ]======================>                            ]\r"
     ]
    },
    {
     "name": "stderr",
     "output_type": "stream",
     "text": [
      "IOPub message rate exceeded.\n",
      "The notebook server will temporarily stop sending output\n",
      "to the client in order to avoid crashing it.\n",
      "To change this limit, set the config variable\n",
      "`--NotebookApp.iopub_msg_rate_limit`.\n",
      "\n",
      "Current values:\n",
      "NotebookApp.iopub_msg_rate_limit=1000.0 (msgs/sec)\n",
      "NotebookApp.rate_limit_window=3.0 (secs)\n",
      "\n"
     ]
    },
    {
     "name": "stdout",
     "output_type": "stream",
     "text": [
      " (45.91%) [======================>                            ]======================>                            ]======================>                            ]======================>                            ]======================>                            ]======================>                            ]======================>                            ]======================>                            ]\r"
     ]
    },
    {
     "name": "stderr",
     "output_type": "stream",
     "text": [
      "IOPub message rate exceeded.\n",
      "The notebook server will temporarily stop sending output\n",
      "to the client in order to avoid crashing it.\n",
      "To change this limit, set the config variable\n",
      "`--NotebookApp.iopub_msg_rate_limit`.\n",
      "\n",
      "Current values:\n",
      "NotebookApp.iopub_msg_rate_limit=1000.0 (msgs/sec)\n",
      "NotebookApp.rate_limit_window=3.0 (secs)\n",
      "\n"
     ]
    },
    {
     "name": "stdout",
     "output_type": "stream",
     "text": [
      " (47.97%) [=======================>                           ]=======================>                           ]=======================>                           ]=======================>                           ]=======================>                           ]=======================>                           ]=======================>                           ]=======================>                           ]=======================>                           ]\r"
     ]
    },
    {
     "name": "stderr",
     "output_type": "stream",
     "text": [
      "IOPub message rate exceeded.\n",
      "The notebook server will temporarily stop sending output\n",
      "to the client in order to avoid crashing it.\n",
      "To change this limit, set the config variable\n",
      "`--NotebookApp.iopub_msg_rate_limit`.\n",
      "\n",
      "Current values:\n",
      "NotebookApp.iopub_msg_rate_limit=1000.0 (msgs/sec)\n",
      "NotebookApp.rate_limit_window=3.0 (secs)\n",
      "\n"
     ]
    },
    {
     "name": "stdout",
     "output_type": "stream",
     "text": [
      " (49.61%) [========================>                          ]========================>                          ]========================>                          ]========================>                          ]========================>                          ]========================>                          ]========================>                          ]========================>                          ]========================>                          ]========================>                          ]\r"
     ]
    },
    {
     "name": "stderr",
     "output_type": "stream",
     "text": [
      "IOPub message rate exceeded.\n",
      "The notebook server will temporarily stop sending output\n",
      "to the client in order to avoid crashing it.\n",
      "To change this limit, set the config variable\n",
      "`--NotebookApp.iopub_msg_rate_limit`.\n",
      "\n",
      "Current values:\n",
      "NotebookApp.iopub_msg_rate_limit=1000.0 (msgs/sec)\n",
      "NotebookApp.rate_limit_window=3.0 (secs)\n",
      "\n"
     ]
    },
    {
     "name": "stdout",
     "output_type": "stream",
     "text": [
      " (51.36%) [=========================>                         ]=========================>                         ]=========================>                         ]=========================>                         ]=========================>                         ]=========================>                         ]=========================>                         ]=========================>                         ]=========================>                         ]\r"
     ]
    },
    {
     "name": "stderr",
     "output_type": "stream",
     "text": [
      "IOPub message rate exceeded.\n",
      "The notebook server will temporarily stop sending output\n",
      "to the client in order to avoid crashing it.\n",
      "To change this limit, set the config variable\n",
      "`--NotebookApp.iopub_msg_rate_limit`.\n",
      "\n",
      "Current values:\n",
      "NotebookApp.iopub_msg_rate_limit=1000.0 (msgs/sec)\n",
      "NotebookApp.rate_limit_window=3.0 (secs)\n",
      "\n"
     ]
    },
    {
     "name": "stdout",
     "output_type": "stream",
     "text": [
      " (53.06%) [==========================>                        ]=========================>                         ]=========================>                         ]=========================>                         ]=========================>                         ]=========================>                         ]==========================>                        ]==========================>                        ]==========================>                        ]==========================>                        ]==========================>                        ]==========================>                        ]==========================>                        ]==========================>                        ]==========================>                        ]==========================>                        ]\r"
     ]
    },
    {
     "name": "stderr",
     "output_type": "stream",
     "text": [
      "IOPub message rate exceeded.\n",
      "The notebook server will temporarily stop sending output\n",
      "to the client in order to avoid crashing it.\n",
      "To change this limit, set the config variable\n",
      "`--NotebookApp.iopub_msg_rate_limit`.\n",
      "\n",
      "Current values:\n",
      "NotebookApp.iopub_msg_rate_limit=1000.0 (msgs/sec)\n",
      "NotebookApp.rate_limit_window=3.0 (secs)\n",
      "\n"
     ]
    },
    {
     "name": "stdout",
     "output_type": "stream",
     "text": [
      " (54.90%) [===========================>                       ]==========================>                        ]==========================>                        ]==========================>                        ]==========================>                        ]===========================>                       ]===========================>                       ]===========================>                       ]===========================>                       ]===========================>                       ]===========================>                       ]===========================>                       ]===========================>                       ]===========================>                       ]\r"
     ]
    },
    {
     "name": "stderr",
     "output_type": "stream",
     "text": [
      "IOPub message rate exceeded.\n",
      "The notebook server will temporarily stop sending output\n",
      "to the client in order to avoid crashing it.\n",
      "To change this limit, set the config variable\n",
      "`--NotebookApp.iopub_msg_rate_limit`.\n",
      "\n",
      "Current values:\n",
      "NotebookApp.iopub_msg_rate_limit=1000.0 (msgs/sec)\n",
      "NotebookApp.rate_limit_window=3.0 (secs)\n",
      "\n"
     ]
    },
    {
     "name": "stdout",
     "output_type": "stream",
     "text": [
      " (56.50%) [============================>                      ]===========================>                       ]===========================>                       ]============================>                      ]============================>                      ]============================>                      ]============================>                      ]============================>                      ]============================>                      ]============================>                      ]============================>                      ]\r"
     ]
    },
    {
     "name": "stderr",
     "output_type": "stream",
     "text": [
      "IOPub message rate exceeded.\n",
      "The notebook server will temporarily stop sending output\n",
      "to the client in order to avoid crashing it.\n",
      "To change this limit, set the config variable\n",
      "`--NotebookApp.iopub_msg_rate_limit`.\n",
      "\n",
      "Current values:\n",
      "NotebookApp.iopub_msg_rate_limit=1000.0 (msgs/sec)\n",
      "NotebookApp.rate_limit_window=3.0 (secs)\n",
      "\n"
     ]
    },
    {
     "name": "stdout",
     "output_type": "stream",
     "text": [
      " (57.92%) [============================>                      ]============================>                      ]============================>                      ]============================>                      ]============================>                      ]============================>                      ]============================>                      ]============================>                      ]============================>                      ]============================>                      ]============================>                      ]============================>                      ]============================>                      ]============================>                      ]============================>                      ]\r"
     ]
    },
    {
     "name": "stderr",
     "output_type": "stream",
     "text": [
      "IOPub message rate exceeded.\n",
      "The notebook server will temporarily stop sending output\n",
      "to the client in order to avoid crashing it.\n",
      "To change this limit, set the config variable\n",
      "`--NotebookApp.iopub_msg_rate_limit`.\n",
      "\n",
      "Current values:\n",
      "NotebookApp.iopub_msg_rate_limit=1000.0 (msgs/sec)\n",
      "NotebookApp.rate_limit_window=3.0 (secs)\n",
      "\n"
     ]
    },
    {
     "name": "stdout",
     "output_type": "stream",
     "text": [
      " (59.82%) [=============================>                     ]=============================>                     ]=============================>                     ]=============================>                     ]=============================>                     ]=============================>                     ]=============================>                     ]=============================>                     ]=============================>                     ]=============================>                     ]\r"
     ]
    },
    {
     "name": "stderr",
     "output_type": "stream",
     "text": [
      "IOPub message rate exceeded.\n",
      "The notebook server will temporarily stop sending output\n",
      "to the client in order to avoid crashing it.\n",
      "To change this limit, set the config variable\n",
      "`--NotebookApp.iopub_msg_rate_limit`.\n",
      "\n",
      "Current values:\n",
      "NotebookApp.iopub_msg_rate_limit=1000.0 (msgs/sec)\n",
      "NotebookApp.rate_limit_window=3.0 (secs)\n",
      "\n"
     ]
    },
    {
     "name": "stdout",
     "output_type": "stream",
     "text": [
      " (61.65%) [==============================>                    ]==============================>                    ]==============================>                    ]==============================>                    ]==============================>                    ]==============================>                    ]\r"
     ]
    },
    {
     "name": "stderr",
     "output_type": "stream",
     "text": [
      "IOPub message rate exceeded.\n",
      "The notebook server will temporarily stop sending output\n",
      "to the client in order to avoid crashing it.\n",
      "To change this limit, set the config variable\n",
      "`--NotebookApp.iopub_msg_rate_limit`.\n",
      "\n",
      "Current values:\n",
      "NotebookApp.iopub_msg_rate_limit=1000.0 (msgs/sec)\n",
      "NotebookApp.rate_limit_window=3.0 (secs)\n",
      "\n"
     ]
    },
    {
     "name": "stdout",
     "output_type": "stream",
     "text": [
      " (63.40%) [===============================>                   ]===============================>                   ]===============================>                   ]===============================>                   ]===============================>                   ]===============================>                   ]===============================>                   ]===============================>                   ]\r"
     ]
    },
    {
     "name": "stderr",
     "output_type": "stream",
     "text": [
      "IOPub message rate exceeded.\n",
      "The notebook server will temporarily stop sending output\n",
      "to the client in order to avoid crashing it.\n",
      "To change this limit, set the config variable\n",
      "`--NotebookApp.iopub_msg_rate_limit`.\n",
      "\n",
      "Current values:\n",
      "NotebookApp.iopub_msg_rate_limit=1000.0 (msgs/sec)\n",
      "NotebookApp.rate_limit_window=3.0 (secs)\n",
      "\n"
     ]
    },
    {
     "name": "stdout",
     "output_type": "stream",
     "text": [
      " (65.14%) [================================>                  ]===============================>                   ]===============================>                   ]===============================>                   ]================================>                  ]================================>                  ]================================>                  ]================================>                  ]================================>                  ]================================>                  ]\r"
     ]
    },
    {
     "name": "stderr",
     "output_type": "stream",
     "text": [
      "IOPub message rate exceeded.\n",
      "The notebook server will temporarily stop sending output\n",
      "to the client in order to avoid crashing it.\n",
      "To change this limit, set the config variable\n",
      "`--NotebookApp.iopub_msg_rate_limit`.\n",
      "\n",
      "Current values:\n",
      "NotebookApp.iopub_msg_rate_limit=1000.0 (msgs/sec)\n",
      "NotebookApp.rate_limit_window=3.0 (secs)\n",
      "\n"
     ]
    },
    {
     "name": "stdout",
     "output_type": "stream",
     "text": [
      " (66.89%) [=================================>                 ]================================>                  ]================================>                  ]================================>                  ]=================================>                 ]=================================>                 ]=================================>                 ]=================================>                 ]=================================>                 ]=================================>                 ]=================================>                 ]=================================>                 ]=================================>                 ]\r"
     ]
    },
    {
     "name": "stderr",
     "output_type": "stream",
     "text": [
      "IOPub message rate exceeded.\n",
      "The notebook server will temporarily stop sending output\n",
      "to the client in order to avoid crashing it.\n",
      "To change this limit, set the config variable\n",
      "`--NotebookApp.iopub_msg_rate_limit`.\n",
      "\n",
      "Current values:\n",
      "NotebookApp.iopub_msg_rate_limit=1000.0 (msgs/sec)\n",
      "NotebookApp.rate_limit_window=3.0 (secs)\n",
      "\n"
     ]
    },
    {
     "name": "stdout",
     "output_type": "stream",
     "text": [
      " (68.49%) [==================================>                ]=================================>                 ]=================================>                 ]=================================>                 ]=================================>                 ]=================================>                 ]==================================>                ]==================================>                ]==================================>                ]==================================>                ]==================================>                ]==================================>                ]==================================>                ]==================================>                ]==================================>                ]\r"
     ]
    },
    {
     "name": "stderr",
     "output_type": "stream",
     "text": [
      "IOPub message rate exceeded.\n",
      "The notebook server will temporarily stop sending output\n",
      "to the client in order to avoid crashing it.\n",
      "To change this limit, set the config variable\n",
      "`--NotebookApp.iopub_msg_rate_limit`.\n",
      "\n",
      "Current values:\n",
      "NotebookApp.iopub_msg_rate_limit=1000.0 (msgs/sec)\n",
      "NotebookApp.rate_limit_window=3.0 (secs)\n",
      "\n"
     ]
    },
    {
     "name": "stdout",
     "output_type": "stream",
     "text": [
      " (70.22%) [===================================>               ]==================================>                ]==================================>                ]==================================>                ]==================================>                ]==================================>                ]===================================>               ]===================================>               ]===================================>               ]===================================>               ]===================================>               ]===================================>               ]\r"
     ]
    },
    {
     "name": "stderr",
     "output_type": "stream",
     "text": [
      "IOPub message rate exceeded.\n",
      "The notebook server will temporarily stop sending output\n",
      "to the client in order to avoid crashing it.\n",
      "To change this limit, set the config variable\n",
      "`--NotebookApp.iopub_msg_rate_limit`.\n",
      "\n",
      "Current values:\n",
      "NotebookApp.iopub_msg_rate_limit=1000.0 (msgs/sec)\n",
      "NotebookApp.rate_limit_window=3.0 (secs)\n",
      "\n"
     ]
    },
    {
     "name": "stdout",
     "output_type": "stream",
     "text": [
      " (71.84%) [===================================>               ]===================================>               ]===================================>               ]===================================>               ]===================================>               ]===================================>               ]===================================>               ]===================================>               ]===================================>               ]===================================>               ]===================================>               ]===================================>               ]===================================>               ]===================================>               ]\r"
     ]
    },
    {
     "name": "stderr",
     "output_type": "stream",
     "text": [
      "IOPub message rate exceeded.\n",
      "The notebook server will temporarily stop sending output\n",
      "to the client in order to avoid crashing it.\n",
      "To change this limit, set the config variable\n",
      "`--NotebookApp.iopub_msg_rate_limit`.\n",
      "\n",
      "Current values:\n",
      "NotebookApp.iopub_msg_rate_limit=1000.0 (msgs/sec)\n",
      "NotebookApp.rate_limit_window=3.0 (secs)\n",
      "\n"
     ]
    },
    {
     "name": "stdout",
     "output_type": "stream",
     "text": [
      " (73.60%) [====================================>              ]====================================>              ]====================================>              ]====================================>              ]====================================>              ]\r"
     ]
    },
    {
     "name": "stderr",
     "output_type": "stream",
     "text": [
      "IOPub message rate exceeded.\n",
      "The notebook server will temporarily stop sending output\n",
      "to the client in order to avoid crashing it.\n",
      "To change this limit, set the config variable\n",
      "`--NotebookApp.iopub_msg_rate_limit`.\n",
      "\n",
      "Current values:\n",
      "NotebookApp.iopub_msg_rate_limit=1000.0 (msgs/sec)\n",
      "NotebookApp.rate_limit_window=3.0 (secs)\n",
      "\n"
     ]
    },
    {
     "name": "stdout",
     "output_type": "stream",
     "text": [
      " (75.30%) [=====================================>             ]=====================================>             ]=====================================>             ]=====================================>             ]=====================================>             ]=====================================>             ]=====================================>             ]=====================================>             ]=====================================>             ]=====================================>             ]\r"
     ]
    },
    {
     "name": "stderr",
     "output_type": "stream",
     "text": [
      "IOPub message rate exceeded.\n",
      "The notebook server will temporarily stop sending output\n",
      "to the client in order to avoid crashing it.\n",
      "To change this limit, set the config variable\n",
      "`--NotebookApp.iopub_msg_rate_limit`.\n",
      "\n",
      "Current values:\n",
      "NotebookApp.iopub_msg_rate_limit=1000.0 (msgs/sec)\n",
      "NotebookApp.rate_limit_window=3.0 (secs)\n",
      "\n"
     ]
    },
    {
     "name": "stdout",
     "output_type": "stream",
     "text": [
      " (76.95%) [======================================>            ]======================================>            ]======================================>            ]======================================>            ]======================================>            ]======================================>            ]======================================>            ]======================================>            ]======================================>            ]======================================>            ]======================================>            ]\r"
     ]
    },
    {
     "name": "stderr",
     "output_type": "stream",
     "text": [
      "IOPub message rate exceeded.\n",
      "The notebook server will temporarily stop sending output\n",
      "to the client in order to avoid crashing it.\n",
      "To change this limit, set the config variable\n",
      "`--NotebookApp.iopub_msg_rate_limit`.\n",
      "\n",
      "Current values:\n",
      "NotebookApp.iopub_msg_rate_limit=1000.0 (msgs/sec)\n",
      "NotebookApp.rate_limit_window=3.0 (secs)\n",
      "\n"
     ]
    },
    {
     "name": "stdout",
     "output_type": "stream",
     "text": [
      " (78.81%) [=======================================>           ]======================================>            ]=======================================>           ]=======================================>           ]=======================================>           ]=======================================>           ]=======================================>           ]=======================================>           ]=======================================>           ]=======================================>           ]=======================================>           ]=======================================>           ]=======================================>           ]=======================================>           ]=======================================>           ]\r"
     ]
    },
    {
     "name": "stderr",
     "output_type": "stream",
     "text": [
      "IOPub message rate exceeded.\n",
      "The notebook server will temporarily stop sending output\n",
      "to the client in order to avoid crashing it.\n",
      "To change this limit, set the config variable\n",
      "`--NotebookApp.iopub_msg_rate_limit`.\n",
      "\n",
      "Current values:\n",
      "NotebookApp.iopub_msg_rate_limit=1000.0 (msgs/sec)\n",
      "NotebookApp.rate_limit_window=3.0 (secs)\n",
      "\n"
     ]
    },
    {
     "name": "stdout",
     "output_type": "stream",
     "text": [
      " (80.43%) [========================================>          ]=======================================>           ]=======================================>           ]=======================================>           ]=======================================>           ]=======================================>           ]=======================================>           ]=======================================>           ]=======================================>           ]========================================>          ]========================================>          ]========================================>          ]========================================>          ]========================================>          ]========================================>          ]========================================>          ]========================================>          ]\r"
     ]
    },
    {
     "name": "stderr",
     "output_type": "stream",
     "text": [
      "IOPub message rate exceeded.\n",
      "The notebook server will temporarily stop sending output\n",
      "to the client in order to avoid crashing it.\n",
      "To change this limit, set the config variable\n",
      "`--NotebookApp.iopub_msg_rate_limit`.\n",
      "\n",
      "Current values:\n",
      "NotebookApp.iopub_msg_rate_limit=1000.0 (msgs/sec)\n",
      "NotebookApp.rate_limit_window=3.0 (secs)\n",
      "\n"
     ]
    },
    {
     "name": "stdout",
     "output_type": "stream",
     "text": [
      " (82.04%) [=========================================>         ]========================================>          ]========================================>          ]========================================>          ]========================================>          ]========================================>          ]========================================>          ]========================================>          ]========================================>          ]========================================>          ]========================================>          ]========================================>          ]========================================>          ]\r"
     ]
    },
    {
     "name": "stderr",
     "output_type": "stream",
     "text": [
      "IOPub message rate exceeded.\n",
      "The notebook server will temporarily stop sending output\n",
      "to the client in order to avoid crashing it.\n",
      "To change this limit, set the config variable\n",
      "`--NotebookApp.iopub_msg_rate_limit`.\n",
      "\n",
      "Current values:\n",
      "NotebookApp.iopub_msg_rate_limit=1000.0 (msgs/sec)\n",
      "NotebookApp.rate_limit_window=3.0 (secs)\n",
      "\n"
     ]
    },
    {
     "name": "stdout",
     "output_type": "stream",
     "text": [
      " (83.68%) [=========================================>         ]=========================================>         ]=========================================>         ]=========================================>         ]=========================================>         ]\r"
     ]
    },
    {
     "name": "stderr",
     "output_type": "stream",
     "text": [
      "IOPub message rate exceeded.\n",
      "The notebook server will temporarily stop sending output\n",
      "to the client in order to avoid crashing it.\n",
      "To change this limit, set the config variable\n",
      "`--NotebookApp.iopub_msg_rate_limit`.\n",
      "\n",
      "Current values:\n",
      "NotebookApp.iopub_msg_rate_limit=1000.0 (msgs/sec)\n",
      "NotebookApp.rate_limit_window=3.0 (secs)\n",
      "\n"
     ]
    },
    {
     "name": "stdout",
     "output_type": "stream",
     "text": [
      " (85.71%) [==========================================>        ]==========================================>        ]==========================================>        ]==========================================>        ]==========================================>        ]==========================================>        ]==========================================>        ]\r"
     ]
    },
    {
     "name": "stderr",
     "output_type": "stream",
     "text": [
      "IOPub message rate exceeded.\n",
      "The notebook server will temporarily stop sending output\n",
      "to the client in order to avoid crashing it.\n",
      "To change this limit, set the config variable\n",
      "`--NotebookApp.iopub_msg_rate_limit`.\n",
      "\n",
      "Current values:\n",
      "NotebookApp.iopub_msg_rate_limit=1000.0 (msgs/sec)\n",
      "NotebookApp.rate_limit_window=3.0 (secs)\n",
      "\n"
     ]
    },
    {
     "name": "stdout",
     "output_type": "stream",
     "text": [
      " (86.72%) [===========================================>       ]===========================================>       ]===========================================>       ]\r"
     ]
    },
    {
     "name": "stderr",
     "output_type": "stream",
     "text": [
      "IOPub message rate exceeded.\n",
      "The notebook server will temporarily stop sending output\n",
      "to the client in order to avoid crashing it.\n",
      "To change this limit, set the config variable\n",
      "`--NotebookApp.iopub_msg_rate_limit`.\n",
      "\n",
      "Current values:\n",
      "NotebookApp.iopub_msg_rate_limit=1000.0 (msgs/sec)\n",
      "NotebookApp.rate_limit_window=3.0 (secs)\n",
      "\n"
     ]
    },
    {
     "name": "stdout",
     "output_type": "stream",
     "text": [
      " (88.44%) [============================================>      ]===========================================>       ]============================================>      ]============================================>      ]============================================>      ]============================================>      ]============================================>      ]============================================>      ]============================================>      ]============================================>      ]============================================>      ]============================================>      ]\r"
     ]
    },
    {
     "name": "stderr",
     "output_type": "stream",
     "text": [
      "IOPub message rate exceeded.\n",
      "The notebook server will temporarily stop sending output\n",
      "to the client in order to avoid crashing it.\n",
      "To change this limit, set the config variable\n",
      "`--NotebookApp.iopub_msg_rate_limit`.\n",
      "\n",
      "Current values:\n",
      "NotebookApp.iopub_msg_rate_limit=1000.0 (msgs/sec)\n",
      "NotebookApp.rate_limit_window=3.0 (secs)\n",
      "\n"
     ]
    },
    {
     "name": "stdout",
     "output_type": "stream",
     "text": [
      " (90.45%) [=============================================>     ]============================================>      ]============================================>      ]============================================>      ]=============================================>     ]=============================================>     ]=============================================>     ]=============================================>     ]=============================================>     ]=============================================>     ]=============================================>     ]=============================================>     ]=============================================>     ]\r"
     ]
    },
    {
     "name": "stderr",
     "output_type": "stream",
     "text": [
      "IOPub message rate exceeded.\n",
      "The notebook server will temporarily stop sending output\n",
      "to the client in order to avoid crashing it.\n",
      "To change this limit, set the config variable\n",
      "`--NotebookApp.iopub_msg_rate_limit`.\n",
      "\n",
      "Current values:\n",
      "NotebookApp.iopub_msg_rate_limit=1000.0 (msgs/sec)\n",
      "NotebookApp.rate_limit_window=3.0 (secs)\n",
      "\n"
     ]
    },
    {
     "name": "stdout",
     "output_type": "stream",
     "text": [
      " (92.55%) [==============================================>    ]=============================================>     ]=============================================>     ]=============================================>     ]=============================================>     ]==============================================>    ]==============================================>    ]==============================================>    ]==============================================>    ]==============================================>    ]==============================================>    ]==============================================>    ]==============================================>    ]==============================================>    ]\r"
     ]
    },
    {
     "name": "stderr",
     "output_type": "stream",
     "text": [
      "IOPub message rate exceeded.\n",
      "The notebook server will temporarily stop sending output\n",
      "to the client in order to avoid crashing it.\n",
      "To change this limit, set the config variable\n",
      "`--NotebookApp.iopub_msg_rate_limit`.\n",
      "\n",
      "Current values:\n",
      "NotebookApp.iopub_msg_rate_limit=1000.0 (msgs/sec)\n",
      "NotebookApp.rate_limit_window=3.0 (secs)\n",
      "\n"
     ]
    },
    {
     "name": "stdout",
     "output_type": "stream",
     "text": [
      " (94.25%) [===============================================>   ]==============================================>    ]==============================================>    ]==============================================>    ]==============================================>    ]==============================================>    ]==============================================>    ]==============================================>    ]==============================================>    ]==============================================>    ]\r"
     ]
    },
    {
     "name": "stderr",
     "output_type": "stream",
     "text": [
      "IOPub message rate exceeded.\n",
      "The notebook server will temporarily stop sending output\n",
      "to the client in order to avoid crashing it.\n",
      "To change this limit, set the config variable\n",
      "`--NotebookApp.iopub_msg_rate_limit`.\n",
      "\n",
      "Current values:\n",
      "NotebookApp.iopub_msg_rate_limit=1000.0 (msgs/sec)\n",
      "NotebookApp.rate_limit_window=3.0 (secs)\n",
      "\n"
     ]
    },
    {
     "name": "stdout",
     "output_type": "stream",
     "text": [
      " (95.84%) [===============================================>   ]===============================================>   ]===============================================>   ]===============================================>   ]===============================================>   ]===============================================>   ]===============================================>   ]===============================================>   ]===============================================>   ]===============================================>   ]===============================================>   ]===============================================>   ]===============================================>   ]===============================================>   ]===============================================>   ]===============================================>   ]===============================================>   ]===============================================>   ]===============================================>   ]===============================================>   ]===============================================>   ]===============================================>   ]\r"
     ]
    },
    {
     "name": "stderr",
     "output_type": "stream",
     "text": [
      "IOPub message rate exceeded.\n",
      "The notebook server will temporarily stop sending output\n",
      "to the client in order to avoid crashing it.\n",
      "To change this limit, set the config variable\n",
      "`--NotebookApp.iopub_msg_rate_limit`.\n",
      "\n",
      "Current values:\n",
      "NotebookApp.iopub_msg_rate_limit=1000.0 (msgs/sec)\n",
      "NotebookApp.rate_limit_window=3.0 (secs)\n",
      "\n"
     ]
    },
    {
     "name": "stdout",
     "output_type": "stream",
     "text": [
      " (97.70%) [================================================>  ]================================================>  ]================================================>  ]================================================>  ]================================================>  ]================================================>  ]\r"
     ]
    },
    {
     "name": "stderr",
     "output_type": "stream",
     "text": [
      "IOPub message rate exceeded.\n",
      "The notebook server will temporarily stop sending output\n",
      "to the client in order to avoid crashing it.\n",
      "To change this limit, set the config variable\n",
      "`--NotebookApp.iopub_msg_rate_limit`.\n",
      "\n",
      "Current values:\n",
      "NotebookApp.iopub_msg_rate_limit=1000.0 (msgs/sec)\n",
      "NotebookApp.rate_limit_window=3.0 (secs)\n",
      "\n"
     ]
    },
    {
     "name": "stdout",
     "output_type": "stream",
     "text": [
      " (99.21%) [=================================================> ]=================================================> ]=================================================> ]=================================================> ]=================================================> ]\r"
     ]
    },
    {
     "name": "stderr",
     "output_type": "stream",
     "text": [
      "IOPub message rate exceeded.\n",
      "The notebook server will temporarily stop sending output\n",
      "to the client in order to avoid crashing it.\n",
      "To change this limit, set the config variable\n",
      "`--NotebookApp.iopub_msg_rate_limit`.\n",
      "\n",
      "Current values:\n",
      "NotebookApp.iopub_msg_rate_limit=1000.0 (msgs/sec)\n",
      "NotebookApp.rate_limit_window=3.0 (secs)\n",
      "\n"
     ]
    },
    {
     "name": "stdout",
     "output_type": "stream",
     "text": [
      "vi99.88%) [=================================================> ]=================================================> ]=================================================> ]\n",
      "Downloading https://dl.fbaipublicfiles.com/fasttext/vectors-crawl/cc.vi.300.bin.gz\n",
      " (0.54%) [>                                                  ]>                                                  ]>                                                  ]>                                                  ]>                                                  ]>                                                  ]>                                                  ]\r"
     ]
    },
    {
     "name": "stderr",
     "output_type": "stream",
     "text": [
      "IOPub message rate exceeded.\n",
      "The notebook server will temporarily stop sending output\n",
      "to the client in order to avoid crashing it.\n",
      "To change this limit, set the config variable\n",
      "`--NotebookApp.iopub_msg_rate_limit`.\n",
      "\n",
      "Current values:\n",
      "NotebookApp.iopub_msg_rate_limit=1000.0 (msgs/sec)\n",
      "NotebookApp.rate_limit_window=3.0 (secs)\n",
      "\n"
     ]
    },
    {
     "name": "stdout",
     "output_type": "stream",
     "text": [
      " (1.55%) [>                                                  ]>                                                  ]>                                                  ]>                                                  ]>                                                  ]>                                                  ]>                                                  ]\r"
     ]
    },
    {
     "name": "stderr",
     "output_type": "stream",
     "text": [
      "IOPub message rate exceeded.\n",
      "The notebook server will temporarily stop sending output\n",
      "to the client in order to avoid crashing it.\n",
      "To change this limit, set the config variable\n",
      "`--NotebookApp.iopub_msg_rate_limit`.\n",
      "\n",
      "Current values:\n",
      "NotebookApp.iopub_msg_rate_limit=1000.0 (msgs/sec)\n",
      "NotebookApp.rate_limit_window=3.0 (secs)\n",
      "\n"
     ]
    },
    {
     "name": "stdout",
     "output_type": "stream",
     "text": [
      " (2.57%) [=>                                                 ]=>                                                 ]=>                                                 ]=>                                                 ]=>                                                 ]=>                                                 ]\r"
     ]
    },
    {
     "name": "stderr",
     "output_type": "stream",
     "text": [
      "IOPub message rate exceeded.\n",
      "The notebook server will temporarily stop sending output\n",
      "to the client in order to avoid crashing it.\n",
      "To change this limit, set the config variable\n",
      "`--NotebookApp.iopub_msg_rate_limit`.\n",
      "\n",
      "Current values:\n",
      "NotebookApp.iopub_msg_rate_limit=1000.0 (msgs/sec)\n",
      "NotebookApp.rate_limit_window=3.0 (secs)\n",
      "\n"
     ]
    },
    {
     "name": "stdout",
     "output_type": "stream",
     "text": [
      " (3.59%) [=>                                                 ]=>                                                 ]=>                                                 ]=>                                                 ]=>                                                 ]=>                                                 ]=>                                                 ]=>                                                 ]=>                                                 ]=>                                                 ]=>                                                 ]=>                                                 ]\r"
     ]
    },
    {
     "name": "stderr",
     "output_type": "stream",
     "text": [
      "IOPub message rate exceeded.\n",
      "The notebook server will temporarily stop sending output\n",
      "to the client in order to avoid crashing it.\n",
      "To change this limit, set the config variable\n",
      "`--NotebookApp.iopub_msg_rate_limit`.\n",
      "\n",
      "Current values:\n",
      "NotebookApp.iopub_msg_rate_limit=1000.0 (msgs/sec)\n",
      "NotebookApp.rate_limit_window=3.0 (secs)\n",
      "\n"
     ]
    },
    {
     "name": "stdout",
     "output_type": "stream",
     "text": [
      " (4.61%) [==>                                                ]==>                                                ]==>                                                ]==>                                                ]==>                                                ]==>                                                ]==>                                                ]==>                                                ]==>                                                ]==>                                                ]\r"
     ]
    },
    {
     "name": "stderr",
     "output_type": "stream",
     "text": [
      "IOPub message rate exceeded.\n",
      "The notebook server will temporarily stop sending output\n",
      "to the client in order to avoid crashing it.\n",
      "To change this limit, set the config variable\n",
      "`--NotebookApp.iopub_msg_rate_limit`.\n",
      "\n",
      "Current values:\n",
      "NotebookApp.iopub_msg_rate_limit=1000.0 (msgs/sec)\n",
      "NotebookApp.rate_limit_window=3.0 (secs)\n",
      "\n"
     ]
    },
    {
     "name": "stdout",
     "output_type": "stream",
     "text": [
      " (5.64%) [==>                                                ]==>                                                ]==>                                                ]==>                                                ]==>                                                ]==>                                                ]==>                                                ]==>                                                ]==>                                                ]==>                                                ]==>                                                ]==>                                                ]==>                                                ]==>                                                ]\r"
     ]
    },
    {
     "name": "stderr",
     "output_type": "stream",
     "text": [
      "IOPub message rate exceeded.\n",
      "The notebook server will temporarily stop sending output\n",
      "to the client in order to avoid crashing it.\n",
      "To change this limit, set the config variable\n",
      "`--NotebookApp.iopub_msg_rate_limit`.\n",
      "\n",
      "Current values:\n",
      "NotebookApp.iopub_msg_rate_limit=1000.0 (msgs/sec)\n",
      "NotebookApp.rate_limit_window=3.0 (secs)\n",
      "\n"
     ]
    },
    {
     "name": "stdout",
     "output_type": "stream",
     "text": [
      " (6.67%) [===>                                               ]===>                                               ]===>                                               ]===>                                               ]===>                                               ]===>                                               ]===>                                               ]===>                                               ]===>                                               ]===>                                               ]===>                                               ]===>                                               ]===>                                               ]===>                                               ]===>                                               ]\r"
     ]
    },
    {
     "name": "stderr",
     "output_type": "stream",
     "text": [
      "IOPub message rate exceeded.\n",
      "The notebook server will temporarily stop sending output\n",
      "to the client in order to avoid crashing it.\n",
      "To change this limit, set the config variable\n",
      "`--NotebookApp.iopub_msg_rate_limit`.\n",
      "\n",
      "Current values:\n",
      "NotebookApp.iopub_msg_rate_limit=1000.0 (msgs/sec)\n",
      "NotebookApp.rate_limit_window=3.0 (secs)\n",
      "\n"
     ]
    },
    {
     "name": "stdout",
     "output_type": "stream",
     "text": [
      " (8.49%) [====>                                              ]===>                                               ] (8.01%) [====>                                              ]====>                                              ]====>                                              ]====>                                              ]====>                                              ]====>                                              ]====>                                              ]====>                                              ]\r"
     ]
    },
    {
     "name": "stderr",
     "output_type": "stream",
     "text": [
      "IOPub message rate exceeded.\n",
      "The notebook server will temporarily stop sending output\n",
      "to the client in order to avoid crashing it.\n",
      "To change this limit, set the config variable\n",
      "`--NotebookApp.iopub_msg_rate_limit`.\n",
      "\n",
      "Current values:\n",
      "NotebookApp.iopub_msg_rate_limit=1000.0 (msgs/sec)\n",
      "NotebookApp.rate_limit_window=3.0 (secs)\n",
      "\n"
     ]
    },
    {
     "name": "stdout",
     "output_type": "stream",
     "text": [
      " (10.24%) [=====>                                             ]===>                                              ]====>                                              ]====>                                              ]=====>                                             ]=====>                                             ]\r"
     ]
    },
    {
     "name": "stderr",
     "output_type": "stream",
     "text": [
      "IOPub message rate exceeded.\n",
      "The notebook server will temporarily stop sending output\n",
      "to the client in order to avoid crashing it.\n",
      "To change this limit, set the config variable\n",
      "`--NotebookApp.iopub_msg_rate_limit`.\n",
      "\n",
      "Current values:\n",
      "NotebookApp.iopub_msg_rate_limit=1000.0 (msgs/sec)\n",
      "NotebookApp.rate_limit_window=3.0 (secs)\n",
      "\n"
     ]
    },
    {
     "name": "stdout",
     "output_type": "stream",
     "text": [
      " (11.75%) [=====>                                             ]=====>                                             ]=====>                                             ]=====>                                             ]=====>                                             ]=====>                                             ]=====>                                             ]=====>                                             ]=====>                                             ]\r"
     ]
    },
    {
     "name": "stderr",
     "output_type": "stream",
     "text": [
      "IOPub message rate exceeded.\n",
      "The notebook server will temporarily stop sending output\n",
      "to the client in order to avoid crashing it.\n",
      "To change this limit, set the config variable\n",
      "`--NotebookApp.iopub_msg_rate_limit`.\n",
      "\n",
      "Current values:\n",
      "NotebookApp.iopub_msg_rate_limit=1000.0 (msgs/sec)\n",
      "NotebookApp.rate_limit_window=3.0 (secs)\n",
      "\n"
     ]
    }
   ],
   "source": [
    "import fasttext.util\n",
    "sel_languages = \"af\", \"sq\", \"ar\", \"hy\", \"az\", \"be\", \"bn\", \"bs\", \"bg\", \"my\", \"hr\", \"cs\", \"da\", \"nl\", \"en\", \"et\", \"fi\", \"fr\", \"gl\", \"ka\", \"de\", \"el\", \"hi\", \"hu\", \"is\", \"id\", \"ga\", \"it\", \"ja\", \"kk\", \"km\", \"ky\", \"ko\", \"ku\", \"lv\", \"lt\", \"lb\", \"mk\", \"mg\", \"ms\", \"mt\", \"ne\", \"no\", \"ps\", \"fa\", \"pl\", \"pt\", \"qu\", \"ro\", \"ru\", \"gd\", \"sd\", \"sr\", \"sl\", \"sk\", \"so\", \"es\", \"th\", \"vi\", \"uk\", \"uz\", \"lo\", \"he\", \"sv\", \"tl\", \"tr\", \"ur\", \"zh\", \"zu\", \"th\", \"vi\", \"uk\", \"uz\", \"lo\", \"he\", \"sv\", \"tl\", \"tr\", \"ur\", \"zh\", \"zu\"\n",
    "for lang in sel_languages:\n",
    "    print(lang)\n",
    "    fasttext.util.download_model(lang, if_exists='ignore') #'en', if_exists='ignore')  # English"
   ]
  }
 ],
 "metadata": {
  "kernelspec": {
   "display_name": "gender-bias",
   "language": "python",
   "name": "gender-bias"
  },
  "language_info": {
   "codemirror_mode": {
    "name": "ipython",
    "version": 3
   },
   "file_extension": ".py",
   "mimetype": "text/x-python",
   "name": "python",
   "nbconvert_exporter": "python",
   "pygments_lexer": "ipython3",
   "version": "3.7.15"
  },
  "toc": {
   "base_numbering": 1,
   "nav_menu": {},
   "number_sections": true,
   "sideBar": true,
   "skip_h1_title": false,
   "title_cell": "Table of Contents",
   "title_sidebar": "Contents",
   "toc_cell": false,
   "toc_position": {},
   "toc_section_display": true,
   "toc_window_display": false
  }
 },
 "nbformat": 4,
 "nbformat_minor": 5
}
